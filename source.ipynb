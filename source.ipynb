{
 "cells": [
  {
   "cell_type": "code",
   "execution_count": 1,
   "metadata": {},
   "outputs": [],
   "source": [
    "from collections.abc import Iterable "
   ]
  },
  {
   "cell_type": "code",
   "execution_count": 2,
   "metadata": {},
   "outputs": [],
   "source": [
    "from collections.abc import Mapping"
   ]
  },
  {
   "cell_type": "code",
   "execution_count": 3,
   "metadata": {},
   "outputs": [],
   "source": [
    "# pip install --upgrade pdf2docx\n"
   ]
  },
  {
   "cell_type": "code",
   "execution_count": 4,
   "metadata": {},
   "outputs": [],
   "source": [
    "pdf_file = 'cv.pdf'\n",
    "docx_file = 'samplep1.docx'"
   ]
  },
  {
   "cell_type": "code",
   "execution_count": null,
   "metadata": {},
   "outputs": [
    {
     "ename": "",
     "evalue": "",
     "output_type": "error",
     "traceback": [
      "\u001b[1;31mThe kernel failed to start as 'Mapping' could not be imported from '/usr/lib/python3.10/collections/__init__.py'.\n",
      "\u001b[1;31mClick <a href='https://aka.ms/kernelFailuresModuleImportErrFromFile'>here</a> for more info."
     ]
    }
   ],
   "source": [
    "from pdf2docx import Converter"
   ]
  },
  {
   "cell_type": "code",
   "execution_count": null,
   "metadata": {},
   "outputs": [
    {
     "ename": "",
     "evalue": "",
     "output_type": "error",
     "traceback": [
      "\u001b[1;31mThe kernel failed to start as 'Mapping' could not be imported from '/usr/lib/python3.10/collections/__init__.py'.\n",
      "\u001b[1;31mClick <a href='https://aka.ms/kernelFailuresModuleImportErrFromFile'>here</a> for more info."
     ]
    }
   ],
   "source": [
    "from pdf2docx import parse\n"
   ]
  },
  {
   "cell_type": "code",
   "execution_count": null,
   "metadata": {},
   "outputs": [
    {
     "ename": "",
     "evalue": "",
     "output_type": "error",
     "traceback": [
      "\u001b[1;31mThe kernel failed to start as 'Mapping' could not be imported from '/usr/lib/python3.10/collections/__init__.py'.\n",
      "\u001b[1;31mClick <a href='https://aka.ms/kernelFailuresModuleImportErrFromFile'>here</a> for more info."
     ]
    }
   ],
   "source": [
    "parse(pdf_file, docx_file)\n"
   ]
  },
  {
   "cell_type": "code",
   "execution_count": null,
   "metadata": {},
   "outputs": [
    {
     "ename": "",
     "evalue": "",
     "output_type": "error",
     "traceback": [
      "\u001b[1;31mThe kernel failed to start as 'Mapping' could not be imported from '/usr/lib/python3.10/collections/__init__.py'.\n",
      "\u001b[1;31mClick <a href='https://aka.ms/kernelFailuresModuleImportErrFromFile'>here</a> for more info."
     ]
    }
   ],
   "source": [
    "docx_file = 'samplep.docx'\n",
    "pages_list = [0]\n",
    "# convert pdf to docx\n",
    "cv = Converter(pdf_file)\n",
    "cv.convert(docx_file, pages = pages_list)      # all pages by default\n",
    "cv.close()\n",
    "\n",
    "docx_file = 'samplep0.docx'\n",
    "pages_list = [1]\n",
    "# convert pdf to docx\n",
    "cv = Converter(pdf_file)\n",
    "cv.convert(docx_file, pages = pages_list) \n",
    "\n",
    "\n",
    "cv.close()"
   ]
  },
  {
   "cell_type": "code",
   "execution_count": null,
   "metadata": {},
   "outputs": [
    {
     "ename": "",
     "evalue": "",
     "output_type": "error",
     "traceback": [
      "\u001b[1;31mThe kernel failed to start as 'Mapping' could not be imported from '/usr/lib/python3.10/collections/__init__.py'.\n",
      "\u001b[1;31mClick <a href='https://aka.ms/kernelFailuresModuleImportErrFromFile'>here</a> for more info."
     ]
    }
   ],
   "source": [
    "import fitz  # PyMuPDF\n",
    "def count_pdf_pages(pdf_file_path):\n",
    "    try:\n",
    "        pdf_document = fitz.open(pdf_file_path)\n",
    "        num_pages = pdf_document.page_count\n",
    "        return num_pages\n",
    "    except Exception as e:\n",
    "        print(f\"An error occurred: {str(e)}\")\n",
    "        return None"
   ]
  },
  {
   "cell_type": "code",
   "execution_count": null,
   "metadata": {},
   "outputs": [
    {
     "ename": "",
     "evalue": "",
     "output_type": "error",
     "traceback": [
      "\u001b[1;31mThe kernel failed to start as 'Mapping' could not be imported from '/usr/lib/python3.10/collections/__init__.py'.\n",
      "\u001b[1;31mClick <a href='https://aka.ms/kernelFailuresModuleImportErrFromFile'>here</a> for more info."
     ]
    }
   ],
   "source": [
    "count_pdf_pages(\"cv.pdf\")"
   ]
  },
  {
   "cell_type": "code",
   "execution_count": null,
   "metadata": {},
   "outputs": [
    {
     "ename": "",
     "evalue": "",
     "output_type": "error",
     "traceback": [
      "\u001b[1;31mThe kernel failed to start as 'Mapping' could not be imported from '/usr/lib/python3.10/collections/__init__.py'.\n",
      "\u001b[1;31mClick <a href='https://aka.ms/kernelFailuresModuleImportErrFromFile'>here</a> for more info."
     ]
    }
   ],
   "source": [
    "def getFilename(path):\n",
    "    file = path.split(\"/\")[-1]\n",
    "    file = file.split(\".\")[0]\n",
    "    return file"
   ]
  },
  {
   "cell_type": "code",
   "execution_count": null,
   "metadata": {},
   "outputs": [
    {
     "ename": "",
     "evalue": "",
     "output_type": "error",
     "traceback": [
      "\u001b[1;31mThe kernel failed to start as 'Mapping' could not be imported from '/usr/lib/python3.10/collections/__init__.py'.\n",
      "\u001b[1;31mClick <a href='https://aka.ms/kernelFailuresModuleImportErrFromFile'>here</a> for more info."
     ]
    }
   ],
   "source": [
    "import os\n",
    "from docx import Document\n",
    "from docxcompose.composer import Composer\n",
    "\n",
    "\n",
    "\n",
    "def pdf2doc(path, outputPath):\n",
    "    pdf_file = path\n",
    "    filename = getFilename(path)\n",
    "    # docx_file = f\"{outputPath}/{filename}.docx\"\n",
    "\n",
    "    num_pages = count_pdf_pages(pdf_file)\n",
    "\n",
    "    for i in range(num_pages):\n",
    "        docx_file = f'{outputPath}/{filename}{i}.docx'\n",
    "\n",
    "        # convert pdf to docx\n",
    "        cv = Converter(pdf_file)\n",
    "        cv.convert(docx_file, start=i, end= i + 1)      # all pages by default\n",
    "        cv.close()\n",
    "    \n",
    "    master = Document(f\"{outputPath}/{filename}{0}.docx\")\n",
    "    composer = Composer(master)\n",
    "    os.remove(f\"{outputPath}/{filename}{0}.docx\")\n",
    "        \n",
    "    for i in range(1, num_pages):\n",
    "        doc = Document(f\"{outputPath}/{filename}{i}.docx\")\n",
    "        composer.append(doc)\n",
    "        os.remove(f\"{outputPath}/{filename}{i}.docx\")\n",
    "        \n",
    "    docx_file = f\"{outputPath}/{filename}.docx\"\n",
    "    composer.save(docx_file)\n",
    "    \n",
    "    return docx_file"
   ]
  },
  {
   "cell_type": "code",
   "execution_count": null,
   "metadata": {},
   "outputs": [
    {
     "ename": "",
     "evalue": "",
     "output_type": "error",
     "traceback": [
      "\u001b[1;31mThe kernel failed to start as 'Mapping' could not be imported from '/usr/lib/python3.10/collections/__init__.py'.\n",
      "\u001b[1;31mClick <a href='https://aka.ms/kernelFailuresModuleImportErrFromFile'>here</a> for more info."
     ]
    }
   ],
   "source": [
    "pdf2doc(\"cv.pdf\", \"./output\")"
   ]
  },
  {
   "cell_type": "code",
   "execution_count": null,
   "metadata": {},
   "outputs": [
    {
     "ename": "",
     "evalue": "",
     "output_type": "error",
     "traceback": [
      "\u001b[1;31mThe kernel failed to start as 'Mapping' could not be imported from '/usr/lib/python3.10/collections/__init__.py'.\n",
      "\u001b[1;31mClick <a href='https://aka.ms/kernelFailuresModuleImportErrFromFile'>here</a> for more info."
     ]
    }
   ],
   "source": [
    "# pdf_file = 'cv.pdf'\n",
    "# docx_file = 'sample1.docx'\n",
    "\n",
    "# convert pdf to docx\n",
    "cv = Converter(pdf_file)\n",
    "cv.convert(docx_file, start=1, end=2)      # all pages by default\n",
    "cv.close()"
   ]
  },
  {
   "cell_type": "code",
   "execution_count": null,
   "metadata": {},
   "outputs": [
    {
     "ename": "",
     "evalue": "",
     "output_type": "error",
     "traceback": [
      "\u001b[1;31mThe kernel failed to start as 'Mapping' could not be imported from '/usr/lib/python3.10/collections/__init__.py'.\n",
      "\u001b[1;31mClick <a href='https://aka.ms/kernelFailuresModuleImportErrFromFile'>here</a> for more info."
     ]
    }
   ],
   "source": [
    "pip install docxcompose==1.0.0a1"
   ]
  },
  {
   "cell_type": "code",
   "execution_count": null,
   "metadata": {},
   "outputs": [
    {
     "ename": "",
     "evalue": "",
     "output_type": "error",
     "traceback": [
      "\u001b[1;31mThe kernel failed to start as 'Mapping' could not be imported from '/usr/lib/python3.10/collections/__init__.py'.\n",
      "\u001b[1;31mClick <a href='https://aka.ms/kernelFailuresModuleImportErrFromFile'>here</a> for more info."
     ]
    }
   ],
   "source": [
    "from docxcompose.composer import Composer\n",
    "from docx import Document\n",
    "master = Document(\"samplep.docx\")\n",
    "composer = Composer(master)\n",
    "doc1 = Document(\"samplep0.docx\")\n",
    "composer.append(doc1)\n",
    "composer.save(\"combined.docx\")"
   ]
  },
  {
   "cell_type": "code",
   "execution_count": null,
   "metadata": {},
   "outputs": [
    {
     "ename": "",
     "evalue": "",
     "output_type": "error",
     "traceback": [
      "\u001b[1;31mThe kernel failed to start as 'Mapping' could not be imported from '/usr/lib/python3.10/collections/__init__.py'.\n",
      "\u001b[1;31mClick <a href='https://aka.ms/kernelFailuresModuleImportErrFromFile'>here</a> for more info."
     ]
    }
   ],
   "source": [
    "import aspose as aw"
   ]
  },
  {
   "cell_type": "code",
   "execution_count": null,
   "metadata": {},
   "outputs": [
    {
     "ename": "",
     "evalue": "",
     "output_type": "error",
     "traceback": [
      "\u001b[1;31mThe kernel failed to start as 'Mapping' could not be imported from '/usr/lib/python3.10/collections/__init__.py'.\n",
      "\u001b[1;31mClick <a href='https://aka.ms/kernelFailuresModuleImportErrFromFile'>here</a> for more info."
     ]
    }
   ],
   "source": [
    "import docx\n",
    "import re\n",
    "\n",
    "def format_docx_document(input_docx_path, output_docx_path):\n",
    "    try:\n",
    "        # Open the input .docx document\n",
    "        doc = docx.Document(input_docx_path)\n",
    "        \n",
    "        # Create a list to store paragraphs after formatting\n",
    "        formatted_paragraphs = []\n",
    "\n",
    "        for paragraph in doc.paragraphs:\n",
    "            # Remove extra white spaces and format each paragraph\n",
    "            cleaned_text = re.sub(r'\\s+', ' ', paragraph.text).strip()\n",
    "            formatted_paragraphs.append(cleaned_text)\n",
    "\n",
    "        # Create a new .docx document for output\n",
    "        output_doc = docx.Document()\n",
    "\n",
    "        # Add the formatted paragraphs to the new document\n",
    "        for formatted_paragraph in formatted_paragraphs:\n",
    "            output_doc.add_paragraph(formatted_paragraph)\n",
    "\n",
    "        # Save the formatted .docx document\n",
    "        output_doc.save(output_docx_path)\n",
    "\n",
    "        print(\"Document formatted and saved to\", output_docx_path)\n",
    "\n",
    "    except FileNotFoundError:\n",
    "        print(\"Input file not found.\")"
   ]
  },
  {
   "cell_type": "code",
   "execution_count": null,
   "metadata": {},
   "outputs": [
    {
     "ename": "",
     "evalue": "",
     "output_type": "error",
     "traceback": [
      "\u001b[1;31mThe kernel failed to start as 'Mapping' could not be imported from '/usr/lib/python3.10/collections/__init__.py'.\n",
      "\u001b[1;31mClick <a href='https://aka.ms/kernelFailuresModuleImportErrFromFile'>here</a> for more info."
     ]
    }
   ],
   "source": [
    "# Example usage:\n",
    "input_docx_file = \"sample.docx\"\n",
    "output_docx_file = \"samplrOutput.docx\"\n",
    "\n",
    "format_docx_document(input_docx_file, output_docx_file)"
   ]
  },
  {
   "cell_type": "markdown",
   "metadata": {},
   "source": [
    "---"
   ]
  },
  {
   "cell_type": "code",
   "execution_count": null,
   "metadata": {},
   "outputs": [
    {
     "ename": "",
     "evalue": "",
     "output_type": "error",
     "traceback": [
      "\u001b[1;31mThe kernel failed to start as 'Mapping' could not be imported from '/usr/lib/python3.10/collections/__init__.py'.\n",
      "\u001b[1;31mClick <a href='https://aka.ms/kernelFailuresModuleImportErrFromFile'>here</a> for more info."
     ]
    }
   ],
   "source": [
    "import pdf2jpg\n",
    "from pdf2jpg import pdf2jpg"
   ]
  },
  {
   "cell_type": "code",
   "execution_count": null,
   "metadata": {},
   "outputs": [
    {
     "ename": "",
     "evalue": "",
     "output_type": "error",
     "traceback": [
      "\u001b[1;31mThe kernel failed to start as 'Mapping' could not be imported from '/usr/lib/python3.10/collections/__init__.py'.\n",
      "\u001b[1;31mClick <a href='https://aka.ms/kernelFailuresModuleImportErrFromFile'>here</a> for more info."
     ]
    }
   ],
   "source": [
    "import os\n",
    "import sys"
   ]
  },
  {
   "cell_type": "code",
   "execution_count": null,
   "metadata": {},
   "outputs": [
    {
     "ename": "",
     "evalue": "",
     "output_type": "error",
     "traceback": [
      "\u001b[1;31mThe kernel failed to start as 'Mapping' could not be imported from '/usr/lib/python3.10/collections/__init__.py'.\n",
      "\u001b[1;31mClick <a href='https://aka.ms/kernelFailuresModuleImportErrFromFile'>here</a> for more info."
     ]
    }
   ],
   "source": [
    "Source = \"cv.pdf\"\n",
    "Destination = \"File1.jpg\"\n",
    "Final = pdf2jpg.convert_pdf2jpg(  Source , Destination )\n",
    "# print(Final)"
   ]
  },
  {
   "cell_type": "code",
   "execution_count": null,
   "metadata": {},
   "outputs": [
    {
     "ename": "",
     "evalue": "",
     "output_type": "error",
     "traceback": [
      "\u001b[1;31mThe kernel failed to start as 'Mapping' could not be imported from '/usr/lib/python3.10/collections/__init__.py'.\n",
      "\u001b[1;31mClick <a href='https://aka.ms/kernelFailuresModuleImportErrFromFile'>here</a> for more info."
     ]
    }
   ],
   "source": []
  },
  {
   "cell_type": "code",
   "execution_count": null,
   "metadata": {},
   "outputs": [
    {
     "ename": "",
     "evalue": "",
     "output_type": "error",
     "traceback": [
      "\u001b[1;31mThe kernel failed to start as 'Mapping' could not be imported from '/usr/lib/python3.10/collections/__init__.py'.\n",
      "\u001b[1;31mClick <a href='https://aka.ms/kernelFailuresModuleImportErrFromFile'>here</a> for more info."
     ]
    }
   ],
   "source": [
    "# pip install pdf2jpg"
   ]
  },
  {
   "cell_type": "code",
   "execution_count": null,
   "metadata": {},
   "outputs": [
    {
     "ename": "",
     "evalue": "",
     "output_type": "error",
     "traceback": [
      "\u001b[1;31mThe kernel failed to start as 'Mapping' could not be imported from '/usr/lib/python3.10/collections/__init__.py'.\n",
      "\u001b[1;31mClick <a href='https://aka.ms/kernelFailuresModuleImportErrFromFile'>here</a> for more info."
     ]
    }
   ],
   "source": [
    "pip install pdf2pptx\n"
   ]
  },
  {
   "cell_type": "code",
   "execution_count": null,
   "metadata": {},
   "outputs": [
    {
     "ename": "",
     "evalue": "",
     "output_type": "error",
     "traceback": [
      "\u001b[1;31mThe kernel failed to start as 'Mapping' could not be imported from '/usr/lib/python3.10/collections/__init__.py'.\n",
      "\u001b[1;31mClick <a href='https://aka.ms/kernelFailuresModuleImportErrFromFile'>here</a> for more info."
     ]
    }
   ],
   "source": [
    "filename = \"test.pdf\""
   ]
  },
  {
   "cell_type": "code",
   "execution_count": null,
   "metadata": {},
   "outputs": [
    {
     "ename": "",
     "evalue": "",
     "output_type": "error",
     "traceback": [
      "\u001b[1;31mThe kernel failed to start as 'Mapping' could not be imported from '/usr/lib/python3.10/collections/__init__.py'.\n",
      "\u001b[1;31mClick <a href='https://aka.ms/kernelFailuresModuleImportErrFromFile'>here</a> for more info."
     ]
    }
   ],
   "source": [
    "import os\n",
    "os.system(f\"pdf2pptx {filename}\")"
   ]
  },
  {
   "cell_type": "code",
   "execution_count": null,
   "metadata": {},
   "outputs": [
    {
     "ename": "",
     "evalue": "",
     "output_type": "error",
     "traceback": [
      "\u001b[1;31mThe kernel failed to start as 'Mapping' could not be imported from '/usr/lib/python3.10/collections/__init__.py'.\n",
      "\u001b[1;31mClick <a href='https://aka.ms/kernelFailuresModuleImportErrFromFile'>here</a> for more info."
     ]
    }
   ],
   "source": [
    "# pip install git+https://github.com/pdftables/python-pdftables-api.git\n",
    "# pip setup.py install "
   ]
  },
  {
   "cell_type": "code",
   "execution_count": null,
   "metadata": {},
   "outputs": [
    {
     "ename": "",
     "evalue": "",
     "output_type": "error",
     "traceback": [
      "\u001b[1;31mThe kernel failed to start as 'Mapping' could not be imported from '/usr/lib/python3.10/collections/__init__.py'.\n",
      "\u001b[1;31mClick <a href='https://aka.ms/kernelFailuresModuleImportErrFromFile'>here</a> for more info."
     ]
    }
   ],
   "source": [
    "apiKey = \"0a7fi3x0kxlh\""
   ]
  },
  {
   "cell_type": "code",
   "execution_count": null,
   "metadata": {},
   "outputs": [
    {
     "ename": "",
     "evalue": "",
     "output_type": "error",
     "traceback": [
      "\u001b[1;31mThe kernel failed to start as 'Mapping' could not be imported from '/usr/lib/python3.10/collections/__init__.py'.\n",
      "\u001b[1;31mClick <a href='https://aka.ms/kernelFailuresModuleImportErrFromFile'>here</a> for more info."
     ]
    }
   ],
   "source": [
    "import pdftables_api\n",
    "\n",
    "c = pdftables_api.Client(apiKey)\n",
    "c.xlsx('table.pdf', 'output.csv') "
   ]
  },
  {
   "cell_type": "markdown",
   "metadata": {},
   "source": [
    "---"
   ]
  },
  {
   "cell_type": "code",
   "execution_count": null,
   "metadata": {},
   "outputs": [
    {
     "ename": "",
     "evalue": "",
     "output_type": "error",
     "traceback": [
      "\u001b[1;31mThe kernel failed to start as 'Mapping' could not be imported from '/usr/lib/python3.10/collections/__init__.py'.\n",
      "\u001b[1;31mClick <a href='https://aka.ms/kernelFailuresModuleImportErrFromFile'>here</a> for more info."
     ]
    }
   ],
   "source": [
    "from docx2pdf import convert\n",
    " \n",
    "# Converting docx present in the same folder\n",
    "# as the python file\n",
    "# convert(\"GFG.docx\")\n",
    " \n",
    "# Converting docx specifying both the input\n",
    "# and output paths\n",
    " \n",
    "# Notice that the output filename need not be\n",
    "# the same as the docx\n",
    " \n",
    "# # Bulk Conversion\n",
    "# convert(\"GeeksForGeeks\\\")"
   ]
  },
  {
   "cell_type": "code",
   "execution_count": null,
   "metadata": {},
   "outputs": [
    {
     "ename": "",
     "evalue": "",
     "output_type": "error",
     "traceback": [
      "\u001b[1;31mThe kernel failed to start as 'Mapping' could not be imported from '/usr/lib/python3.10/collections/__init__.py'.\n",
      "\u001b[1;31mClick <a href='https://aka.ms/kernelFailuresModuleImportErrFromFile'>here</a> for more info."
     ]
    }
   ],
   "source": [
    "convert(\"output\\table.docx\", \"output.pdf\")\n",
    "# "
   ]
  },
  {
   "cell_type": "code",
   "execution_count": null,
   "metadata": {},
   "outputs": [
    {
     "ename": "",
     "evalue": "",
     "output_type": "error",
     "traceback": [
      "\u001b[1;31mThe kernel failed to start as 'Mapping' could not be imported from '/usr/lib/python3.10/collections/__init__.py'.\n",
      "\u001b[1;31mClick <a href='https://aka.ms/kernelFailuresModuleImportErrFromFile'>here</a> for more info."
     ]
    }
   ],
   "source": [
    "pip install comtypes"
   ]
  },
  {
   "cell_type": "code",
   "execution_count": null,
   "metadata": {},
   "outputs": [
    {
     "ename": "",
     "evalue": "",
     "output_type": "error",
     "traceback": [
      "\u001b[1;31mThe kernel failed to start as 'Mapping' could not be imported from '/usr/lib/python3.10/collections/__init__.py'.\n",
      "\u001b[1;31mClick <a href='https://aka.ms/kernelFailuresModuleImportErrFromFile'>here</a> for more info."
     ]
    }
   ],
   "source": [
    "from tkinter.filedialog import askopenfilename"
   ]
  },
  {
   "cell_type": "code",
   "execution_count": null,
   "metadata": {},
   "outputs": [
    {
     "ename": "",
     "evalue": "",
     "output_type": "error",
     "traceback": [
      "\u001b[1;31mThe kernel failed to start as 'Mapping' could not be imported from '/usr/lib/python3.10/collections/__init__.py'.\n",
      "\u001b[1;31mClick <a href='https://aka.ms/kernelFailuresModuleImportErrFromFile'>here</a> for more info."
     ]
    }
   ],
   "source": [
    "pip install tkinter"
   ]
  },
  {
   "cell_type": "code",
   "execution_count": null,
   "metadata": {},
   "outputs": [
    {
     "ename": "",
     "evalue": "",
     "output_type": "error",
     "traceback": [
      "\u001b[1;31mThe kernel failed to start as 'Mapping' could not be imported from '/usr/lib/python3.10/collections/__init__.py'.\n",
      "\u001b[1;31mClick <a href='https://aka.ms/kernelFailuresModuleImportErrFromFile'>here</a> for more info."
     ]
    }
   ],
   "source": [
    "import comtypes.client\n",
    "\n"
   ]
  },
  {
   "cell_type": "code",
   "execution_count": null,
   "metadata": {},
   "outputs": [
    {
     "ename": "",
     "evalue": "",
     "output_type": "error",
     "traceback": [
      "\u001b[1;31mThe kernel failed to start as 'Mapping' could not be imported from '/usr/lib/python3.10/collections/__init__.py'.\n",
      "\u001b[1;31mClick <a href='https://aka.ms/kernelFailuresModuleImportErrFromFile'>here</a> for more info."
     ]
    }
   ],
   "source": []
  },
  {
   "cell_type": "code",
   "execution_count": null,
   "metadata": {},
   "outputs": [
    {
     "ename": "",
     "evalue": "",
     "output_type": "error",
     "traceback": [
      "\u001b[1;31mThe kernel failed to start as 'Mapping' could not be imported from '/usr/lib/python3.10/collections/__init__.py'.\n",
      "\u001b[1;31mClick <a href='https://aka.ms/kernelFailuresModuleImportErrFromFile'>here</a> for more info."
     ]
    }
   ],
   "source": [
    "wdFormatPDF = 17\n",
    "\n",
    "in_file = os.path.abspath(sys.argv[1])\n",
    "out_file = os.path.abspath(sys.argv[2])\n",
    "\n",
    "word = comtypes.client.CreateObject('Word.Application')\n",
    "doc = word.Documents.Open(in_file)\n",
    "doc.SaveAs(out_file, FileFormat=wdFormatPDF)\n",
    "doc.Close()\n",
    "word.Quit()"
   ]
  },
  {
   "cell_type": "code",
   "execution_count": null,
   "metadata": {},
   "outputs": [
    {
     "ename": "",
     "evalue": "",
     "output_type": "error",
     "traceback": [
      "\u001b[1;31mThe kernel failed to start as 'Mapping' could not be imported from '/usr/lib/python3.10/collections/__init__.py'.\n",
      "\u001b[1;31mClick <a href='https://aka.ms/kernelFailuresModuleImportErrFromFile'>here</a> for more info."
     ]
    }
   ],
   "source": [
    "import mammoth"
   ]
  },
  {
   "cell_type": "code",
   "execution_count": null,
   "metadata": {},
   "outputs": [
    {
     "ename": "",
     "evalue": "",
     "output_type": "error",
     "traceback": [
      "\u001b[1;31mThe kernel failed to start as 'Mapping' could not be imported from '/usr/lib/python3.10/collections/__init__.py'.\n",
      "\u001b[1;31mClick <a href='https://aka.ms/kernelFailuresModuleImportErrFromFile'>here</a> for more info."
     ]
    }
   ],
   "source": [
    "inputFile = \"output/table.docx\""
   ]
  },
  {
   "cell_type": "code",
   "execution_count": null,
   "metadata": {},
   "outputs": [
    {
     "ename": "",
     "evalue": "",
     "output_type": "error",
     "traceback": [
      "\u001b[1;31mThe kernel failed to start as 'Mapping' could not be imported from '/usr/lib/python3.10/collections/__init__.py'.\n",
      "\u001b[1;31mClick <a href='https://aka.ms/kernelFailuresModuleImportErrFromFile'>here</a> for more info."
     ]
    }
   ],
   "source": [
    "with open(inputFile, \"rb\") as docx_file:\n",
    "    result = mammoth.convert_to_html(docx_file)\n",
    "    html = result.value \n",
    "    messages = result.messages"
   ]
  },
  {
   "cell_type": "code",
   "execution_count": null,
   "metadata": {},
   "outputs": [
    {
     "ename": "",
     "evalue": "",
     "output_type": "error",
     "traceback": [
      "\u001b[1;31mThe kernel failed to start as 'Mapping' could not be imported from '/usr/lib/python3.10/collections/__init__.py'.\n",
      "\u001b[1;31mClick <a href='https://aka.ms/kernelFailuresModuleImportErrFromFile'>here</a> for more info."
     ]
    }
   ],
   "source": [
    "f = open('sample.html',\"w\")\n",
    "f.write(html)\n",
    "f.close()"
   ]
  },
  {
   "cell_type": "code",
   "execution_count": null,
   "metadata": {},
   "outputs": [
    {
     "ename": "",
     "evalue": "",
     "output_type": "error",
     "traceback": [
      "\u001b[1;31mThe kernel failed to start as 'Mapping' could not be imported from '/usr/lib/python3.10/collections/__init__.py'.\n",
      "\u001b[1;31mClick <a href='https://aka.ms/kernelFailuresModuleImportErrFromFile'>here</a> for more info."
     ]
    }
   ],
   "source": [
    "import os\n",
    "import fitz  # PyMuPDF\n",
    "import pdftables_api\n",
    "from docx import Document\n",
    "from config import apiKey\n",
    "from pdf2docx import Converter\n",
    "from docxcompose.composer import Composer"
   ]
  },
  {
   "cell_type": "code",
   "execution_count": null,
   "metadata": {},
   "outputs": [
    {
     "ename": "",
     "evalue": "",
     "output_type": "error",
     "traceback": [
      "\u001b[1;31mThe kernel failed to start as 'Mapping' could not be imported from '/usr/lib/python3.10/collections/__init__.py'.\n",
      "\u001b[1;31mClick <a href='https://aka.ms/kernelFailuresModuleImportErrFromFile'>here</a> for more info."
     ]
    }
   ],
   "source": [
    "def count_pdf_pages(pdf_file_path):\n",
    "    try:\n",
    "        pdf_document = fitz.open(pdf_file_path)\n",
    "        num_pages = pdf_document.page_count\n",
    "        return num_pages\n",
    "    except Exception as e:\n",
    "        print(f\"An error occurred: {str(e)}\")\n",
    "        return None\n",
    "\n",
    "\n",
    "def getFilename(path):\n",
    "    file = path.split(\"/\")[-1]\n",
    "    file = file.split(\".\")[0]\n",
    "    return file\n",
    "    \n",
    "\n",
    "def pdf2doc(path, outputPath):\n",
    "    pdf_file = path\n",
    "    filename = getFilename(path)\n",
    "    # docx_file = f\"{outputPath}/{filename}.docx\"\n",
    "\n",
    "    num_pages = count_pdf_pages(pdf_file)\n",
    "\n",
    "    for i in range(num_pages):\n",
    "        docx_file = f'{outputPath}/{filename}{i}.docx'\n",
    "\n",
    "        # convert pdf to docx\n",
    "        cv = Converter(pdf_file)\n",
    "        cv.convert(docx_file, start=i, end= i + 1)      # all pages by default\n",
    "        cv.close()\n",
    "    \n",
    "    master = Document(f\"{outputPath}/{filename}{0}.docx\")\n",
    "    composer = Composer(master)\n",
    "    os.remove(f\"{outputPath}/{filename}{0}.docx\")\n",
    "        \n",
    "    for i in range(1, num_pages):\n",
    "        doc = Document(f\"{outputPath}/{filename}{i}.docx\")\n",
    "        composer.append(doc)\n",
    "        os.remove(f\"{outputPath}/{filename}{i}.docx\")\n",
    "        \n",
    "    docx_file = f\"{outputPath}/{filename}.docx\"\n",
    "    composer.save(docx_file)\n",
    "    \n",
    "    return docx_file"
   ]
  },
  {
   "cell_type": "code",
   "execution_count": null,
   "metadata": {},
   "outputs": [
    {
     "ename": "",
     "evalue": "",
     "output_type": "error",
     "traceback": [
      "\u001b[1;31mThe kernel failed to start as 'Mapping' could not be imported from '/usr/lib/python3.10/collections/__init__.py'.\n",
      "\u001b[1;31mClick <a href='https://aka.ms/kernelFailuresModuleImportErrFromFile'>here</a> for more info."
     ]
    }
   ],
   "source": [
    "def pdf2html(path, outputPath):\n",
    "    filepath = pdf2doc(path, outputPath)\n",
    "    \n",
    "    with open(filepath, \"rb\") as docx_file:\n",
    "        result = mammoth.convert_to_html(docx_file)\n",
    "        html = result.value \n",
    "        messages = result.messages\n",
    "    \n",
    "    os.remove(filepath)\n",
    "    filename = getFilename(path)\n",
    "    out = f\"{outputPath}/{filename}.html\"\n",
    "    f = open(out,\"w\")\n",
    "    f.write(html)\n",
    "    f.close()\n",
    "    return out\n",
    "    \n",
    "    \n",
    "    "
   ]
  },
  {
   "cell_type": "code",
   "execution_count": null,
   "metadata": {},
   "outputs": [
    {
     "ename": "",
     "evalue": "",
     "output_type": "error",
     "traceback": [
      "\u001b[1;31mThe kernel failed to start as 'Mapping' could not be imported from '/usr/lib/python3.10/collections/__init__.py'.\n",
      "\u001b[1;31mClick <a href='https://aka.ms/kernelFailuresModuleImportErrFromFile'>here</a> for more info."
     ]
    }
   ],
   "source": [
    "pdf2html(\"input/table.pdf\", \"./output\")"
   ]
  },
  {
   "cell_type": "code",
   "execution_count": null,
   "metadata": {},
   "outputs": [
    {
     "ename": "",
     "evalue": "",
     "output_type": "error",
     "traceback": [
      "\u001b[1;31mThe kernel failed to start as 'Mapping' could not be imported from '/usr/lib/python3.10/collections/__init__.py'.\n",
      "\u001b[1;31mClick <a href='https://aka.ms/kernelFailuresModuleImportErrFromFile'>here</a> for more info."
     ]
    }
   ],
   "source": [
    "pip install pdf2image"
   ]
  },
  {
   "cell_type": "code",
   "execution_count": null,
   "metadata": {},
   "outputs": [
    {
     "ename": "",
     "evalue": "",
     "output_type": "error",
     "traceback": [
      "\u001b[1;31mThe kernel failed to start as 'Mapping' could not be imported from '/usr/lib/python3.10/collections/__init__.py'.\n",
      "\u001b[1;31mClick <a href='https://aka.ms/kernelFailuresModuleImportErrFromFile'>here</a> for more info."
     ]
    }
   ],
   "source": [
    "import pdf2image"
   ]
  },
  {
   "cell_type": "code",
   "execution_count": null,
   "metadata": {},
   "outputs": [
    {
     "ename": "",
     "evalue": "",
     "output_type": "error",
     "traceback": [
      "\u001b[1;31mThe kernel failed to start as 'Mapping' could not be imported from '/usr/lib/python3.10/collections/__init__.py'.\n",
      "\u001b[1;31mClick <a href='https://aka.ms/kernelFailuresModuleImportErrFromFile'>here</a> for more info."
     ]
    }
   ],
   "source": [
    "from pdf2image import convert_from_path\n"
   ]
  },
  {
   "cell_type": "code",
   "execution_count": null,
   "metadata": {},
   "outputs": [
    {
     "ename": "",
     "evalue": "",
     "output_type": "error",
     "traceback": [
      "\u001b[1;31mThe kernel failed to start as 'Mapping' could not be imported from '/usr/lib/python3.10/collections/__init__.py'.\n",
      "\u001b[1;31mClick <a href='https://aka.ms/kernelFailuresModuleImportErrFromFile'>here</a> for more info."
     ]
    }
   ],
   "source": [
    "def pdf2JPEG(path, outputPath):\n",
    "    pages = convert_from_path(path)\n",
    "    filename = getFilename(path)\n",
    "    out = f\"{outputPath}/{filename}.jpg\"\n",
    "    for page in pages:\n",
    "        page.save(out, 'JPEG') \n",
    "    return out"
   ]
  },
  {
   "cell_type": "code",
   "execution_count": null,
   "metadata": {},
   "outputs": [
    {
     "ename": "",
     "evalue": "",
     "output_type": "error",
     "traceback": [
      "\u001b[1;31mThe kernel failed to start as 'Mapping' could not be imported from '/usr/lib/python3.10/collections/__init__.py'.\n",
      "\u001b[1;31mClick <a href='https://aka.ms/kernelFailuresModuleImportErrFromFile'>here</a> for more info."
     ]
    }
   ],
   "source": [
    "pdf2JPEG('input/cv.pdf', \"./output\")"
   ]
  },
  {
   "cell_type": "code",
   "execution_count": null,
   "metadata": {},
   "outputs": [
    {
     "ename": "",
     "evalue": "",
     "output_type": "error",
     "traceback": [
      "\u001b[1;31mThe kernel failed to start as 'Mapping' could not be imported from '/usr/lib/python3.10/collections/__init__.py'.\n",
      "\u001b[1;31mClick <a href='https://aka.ms/kernelFailuresModuleImportErrFromFile'>here</a> for more info."
     ]
    }
   ],
   "source": [
    "convert_from_path('input/cv.pdf')pages = \n",
    "pages"
   ]
  },
  {
   "cell_type": "code",
   "execution_count": null,
   "metadata": {},
   "outputs": [
    {
     "ename": "",
     "evalue": "",
     "output_type": "error",
     "traceback": [
      "\u001b[1;31mThe kernel failed to start as 'Mapping' could not be imported from '/usr/lib/python3.10/collections/__init__.py'.\n",
      "\u001b[1;31mClick <a href='https://aka.ms/kernelFailuresModuleImportErrFromFile'>here</a> for more info."
     ]
    }
   ],
   "source": [
    "for page in pages:\n",
    "    page.save(f'sample.jpg', 'JPEG') "
   ]
  },
  {
   "cell_type": "code",
   "execution_count": null,
   "metadata": {},
   "outputs": [
    {
     "ename": "",
     "evalue": "",
     "output_type": "error",
     "traceback": [
      "\u001b[1;31mThe kernel failed to start as 'Mapping' could not be imported from '/usr/lib/python3.10/collections/__init__.py'.\n",
      "\u001b[1;31mClick <a href='https://aka.ms/kernelFailuresModuleImportErrFromFile'>here</a> for more info."
     ]
    }
   ],
   "source": [
    "pip install comtypes"
   ]
  },
  {
   "cell_type": "code",
   "execution_count": null,
   "metadata": {},
   "outputs": [
    {
     "ename": "",
     "evalue": "",
     "output_type": "error",
     "traceback": [
      "\u001b[1;31mThe kernel failed to start as 'Mapping' could not be imported from '/usr/lib/python3.10/collections/__init__.py'.\n",
      "\u001b[1;31mClick <a href='https://aka.ms/kernelFailuresModuleImportErrFromFile'>here</a> for more info."
     ]
    }
   ],
   "source": [
    "import sys\n",
    "import os\n",
    "# import comtypes.client"
   ]
  },
  {
   "cell_type": "code",
   "execution_count": null,
   "metadata": {},
   "outputs": [
    {
     "ename": "",
     "evalue": "",
     "output_type": "error",
     "traceback": [
      "\u001b[1;31mThe kernel failed to start as 'Mapping' could not be imported from '/usr/lib/python3.10/collections/__init__.py'.\n",
      "\u001b[1;31mClick <a href='https://aka.ms/kernelFailuresModuleImportErrFromFile'>here</a> for more info."
     ]
    }
   ],
   "source": [
    "import comtypes.client"
   ]
  },
  {
   "cell_type": "code",
   "execution_count": null,
   "metadata": {},
   "outputs": [
    {
     "ename": "",
     "evalue": "",
     "output_type": "error",
     "traceback": [
      "\u001b[1;31mThe kernel failed to start as 'Mapping' could not be imported from '/usr/lib/python3.10/collections/__init__.py'.\n",
      "\u001b[1;31mClick <a href='https://aka.ms/kernelFailuresModuleImportErrFromFile'>here</a> for more info."
     ]
    }
   ],
   "source": [
    "from docx2pdf import convert"
   ]
  },
  {
   "cell_type": "code",
   "execution_count": 6,
   "metadata": {},
   "outputs": [
    {
     "name": "stdout",
     "output_type": "stream",
     "text": [
      "Defaulting to user installation because normal site-packages is not writeable\n",
      "Collecting ppt2pdf\n",
      "  Using cached ppt2pdf-0.0.3-py3-none-any.whl (5.0 kB)\n",
      "Collecting PyInquirer\n",
      "  Using cached PyInquirer-1.0.3.tar.gz (27 kB)\n",
      "  Preparing metadata (setup.py) ... \u001b[?25ldone\n",
      "\u001b[?25hCollecting pyfiglet\n",
      "  Using cached pyfiglet-1.0.2-py3-none-any.whl (1.1 MB)\n",
      "Requirement already satisfied: click in /home/ahmenders/.local/lib/python3.10/site-packages (from ppt2pdf) (8.1.6)\n",
      "Collecting comtypes\n",
      "  Using cached comtypes-1.2.0-py2.py3-none-any.whl (184 kB)\n",
      "Requirement already satisfied: Pygments>=2.2.0 in /home/ahmenders/.local/lib/python3.10/site-packages (from PyInquirer->ppt2pdf) (2.15.1)\n",
      "Collecting prompt_toolkit==1.0.14\n",
      "  Using cached prompt_toolkit-1.0.14-py3-none-any.whl (248 kB)\n",
      "Collecting regex>=2016.11.21\n",
      "  Using cached regex-2023.8.8-cp310-cp310-manylinux_2_17_x86_64.manylinux2014_x86_64.whl (771 kB)\n",
      "Requirement already satisfied: six>=1.9.0 in /usr/lib/python3/dist-packages (from prompt_toolkit==1.0.14->PyInquirer->ppt2pdf) (1.16.0)\n",
      "Requirement already satisfied: wcwidth in /home/ahmenders/.local/lib/python3.10/site-packages (from prompt_toolkit==1.0.14->PyInquirer->ppt2pdf) (0.2.6)\n",
      "Building wheels for collected packages: PyInquirer\n",
      "  Building wheel for PyInquirer (setup.py) ... \u001b[?25ldone\n",
      "\u001b[?25h  Created wheel for PyInquirer: filename=PyInquirer-1.0.3-py3-none-any.whl size=32862 sha256=60708acded3900a182e1237bbff948b3864c8ff6bdb7c264dca4a71562f85033\n",
      "  Stored in directory: /home/ahmenders/.cache/pip/wheels/2c/e4/8e/81d8a92fe3a12404e9c6d991c567b7ad7c9ee09d542f7c1980\n",
      "Successfully built PyInquirer\n",
      "Installing collected packages: comtypes, regex, pyfiglet, prompt_toolkit, PyInquirer, ppt2pdf\n",
      "  Attempting uninstall: prompt_toolkit\n",
      "    Found existing installation: prompt-toolkit 3.0.38\n",
      "    Uninstalling prompt-toolkit-3.0.38:\n",
      "      Successfully uninstalled prompt-toolkit-3.0.38\n",
      "\u001b[31mERROR: pip's dependency resolver does not currently take into account all the packages that are installed. This behaviour is the source of the following dependency conflicts.\n",
      "ipython 8.12.0 requires prompt-toolkit!=3.0.37,<3.1.0,>=3.0.30, but you have prompt-toolkit 1.0.14 which is incompatible.\u001b[0m\u001b[31m\n",
      "\u001b[0mSuccessfully installed PyInquirer-1.0.3 comtypes-1.2.0 ppt2pdf-0.0.3 prompt_toolkit-1.0.14 pyfiglet-1.0.2 regex-2023.8.8\n",
      "Note: you may need to restart the kernel to use updated packages.\n"
     ]
    }
   ],
   "source": [
    "pip install ppt2pdf"
   ]
  },
  {
   "cell_type": "code",
   "execution_count": 10,
   "metadata": {},
   "outputs": [],
   "source": [
    "import ppt2pdf\n",
    "import os"
   ]
  },
  {
   "cell_type": "code",
   "execution_count": 15,
   "metadata": {},
   "outputs": [],
   "source": [
    "path = \"output/file.docx\""
   ]
  },
  {
   "cell_type": "code",
   "execution_count": 12,
   "metadata": {},
   "outputs": [
    {
     "name": "stderr",
     "output_type": "stream",
     "text": [
      "Traceback (most recent call last):\n",
      "  File \"/home/ahmenders/.local/bin/ppt2pdf\", line 5, in <module>\n",
      "    from ppt2pdf.scripts.cli import cli\n",
      "  File \"/home/ahmenders/.local/lib/python3.10/site-packages/ppt2pdf/scripts/cli.py\", line 3, in <module>\n",
      "    import comtypes.client\n",
      "  File \"/home/ahmenders/.local/lib/python3.10/site-packages/comtypes/__init__.py\", line 7, in <module>\n",
      "    from _ctypes import COMError\n",
      "ImportError: cannot import name 'COMError' from '_ctypes' (/usr/lib/python3.10/lib-dynload/_ctypes.cpython-310-x86_64-linux-gnu.so)\n"
     ]
    },
    {
     "data": {
      "text/plain": [
       "256"
      ]
     },
     "execution_count": 12,
     "metadata": {},
     "output_type": "execute_result"
    }
   ],
   "source": [
    "os.system(f\"ppt2pdf file {path}\")"
   ]
  },
  {
   "cell_type": "code",
   "execution_count": 17,
   "metadata": {},
   "outputs": [
    {
     "name": "stdout",
     "output_type": "stream",
     "text": [
      "Converted to /home/ahmenders/Downloads/restAPI/restAPI/pdf-conversion/input/file.pdf\n"
     ]
    }
   ],
   "source": [
    "import sys\n",
    "import subprocess\n",
    "import re\n",
    "\n",
    "\n",
    "def convert_to(folder, source, timeout=None):\n",
    "    args = [libreoffice_exec(), '--headless', '--convert-to', 'pdf', '--outdir', folder, source]\n",
    "\n",
    "    process = subprocess.run(args, stdout=subprocess.PIPE, stderr=subprocess.PIPE, timeout=timeout)\n",
    "    filename = re.search('-> (.*?) using filter', process.stdout.decode())\n",
    "\n",
    "    if filename is None:\n",
    "        raise LibreOfficeError(process.stdout.decode())\n",
    "    else:\n",
    "        return filename.group(1)\n",
    "\n",
    "\n",
    "def libreoffice_exec():\n",
    "    # TODO: Provide support for more platforms\n",
    "    if sys.platform == 'darwin':\n",
    "        return '/Applications/LibreOffice.app/Contents/MacOS/soffice'\n",
    "    return 'libreoffice'\n",
    "\n",
    "\n",
    "class LibreOfficeError(Exception):\n",
    "    def __init__(self, output):\n",
    "        self.output = output\n",
    "\n",
    "\n",
    "if __name__ == '__main__':\n",
    "    print('Converted to ' + convert_to(\"input\", path))"
   ]
  },
  {
   "cell_type": "code",
   "execution_count": null,
   "metadata": {},
   "outputs": [],
   "source": [
    "import pandas as pd\n",
    "from docx import Document\n",
    "from htmldocx import HtmlToDocx\n",
    "\n",
    "def csv2pdf(path, outputPath):\n",
    "    \n",
    "    filename = getFilename(path)\n",
    "    df = pd.read_excel(path)\n",
    "    html_string = df.to_html()\n",
    "    \n",
    "    document = Document()\n",
    "    new_parser = HtmlToDocx()\n",
    "    \n",
    "    html = html_string\n",
    "    new_parser.add_html_to_document(html, document)\n",
    "\n",
    "    out = f\"output/{filename}.docx\"\n",
    "    # do more stuff to document\n",
    "    document.save(out)\n",
    "    \n",
    "    ret = docx2pdf(out, outputPath)\n",
    "    os.remove(out)\n",
    "    \n",
    "    return ret"
   ]
  },
  {
   "cell_type": "code",
   "execution_count": 27,
   "metadata": {},
   "outputs": [
    {
     "name": "stderr",
     "output_type": "stream",
     "text": [
      "/home/ahmenders/.local/lib/python3.10/site-packages/openpyxl/styles/stylesheet.py:226: UserWarning: Workbook contains no default style, apply openpyxl's default\n",
      "  warn(\"Workbook contains no default style, apply openpyxl's default\")\n"
     ]
    }
   ],
   "source": [
    "import pandas as pd\n",
    "\n",
    "df1 = pd.read_excel('output/table.xlsx')\n",
    "# print(\"The dataframe is:\")\n",
    "# print(df1)\n",
    "html_string = df1.to_html()\n",
    "\n",
    "document = Document()\n",
    "new_parser = HtmlToDocx()\n",
    "# do stuff to document\n",
    "\n",
    "html = html_string\n",
    "new_parser.add_html_to_document(html, document)\n",
    "\n",
    "# do more stuff to document\n",
    "document.save('your_file_name.docx')"
   ]
  },
  {
   "cell_type": "code",
   "execution_count": 41,
   "metadata": {},
   "outputs": [],
   "source": [
    "from docx import Document\n",
    "from htmldocx import HtmlToDocx"
   ]
  },
  {
   "cell_type": "code",
   "execution_count": 51,
   "metadata": {},
   "outputs": [],
   "source": [
    "# Importing BeautifulSoup class from the bs4 module\n",
    "from bs4 import BeautifulSoup\n",
    "  \n",
    "# Opening the html file\n",
    "HTMLFile = open(\"output/table.html\", \"r\")\n",
    "\n",
    "\n",
    "# Reading the file\n",
    "index = HTMLFile.read()\n",
    "  \n",
    "# Creating a BeautifulSoup object and specifying the parser\n",
    "S = BeautifulSoup(index, 'lxml')\n",
    "  \n",
    "# # Using the select-one method to find the second element from the li tag\n",
    "# Tag = S.select_one('li:nth-of-type(2)')\n",
    "  \n",
    "# # Using the decompose method\n",
    "# Tag.decompose()\n",
    "  \n",
    "# # Using the prettify method to modify the code\n",
    "# print(S.body.prettify())"
   ]
  },
  {
   "cell_type": "code",
   "execution_count": 54,
   "metadata": {},
   "outputs": [
    {
     "data": {
      "text/plain": [
       "'<html><body><p><strong>Example table </strong><br/>This is an example of a data table. </p><table><tr><td rowspan=\"2\"><p><strong>Disability Category </strong></p></td><td rowspan=\"2\"><p><strong>Participants </strong></p></td><td rowspan=\"2\"><p><strong>Ballots </strong><br/><strong>Completed </strong></p></td><td rowspan=\"2\"><p><strong>Ballots </strong><br/><strong>Incomplete/ Terminated </strong></p></td><td colspan=\"2\"><p><strong>Results </strong></p></td></tr><tr><td><p><strong>Accuracy </strong></p></td><td><p><strong>Time to </strong><br/><strong>complete </strong></p></td></tr><tr><td><p>Blind </p></td><td><p>5 </p></td><td><p>1 </p></td><td><p>4 </p></td><td><p>34.5%, n=1 </p></td><td><p>1199 sec, n=1 </p></td></tr><tr><td><p>Low Vision </p></td><td><p>5 </p></td><td><p>2 </p></td><td><p>3 </p></td><td><p>98.3% n=2 <br/>(97.7%, n=3) </p></td><td><p>1716 sec, n=3 (1934 sec, n=2) </p></td></tr><tr><td><p>Dexterity </p></td><td><p>5 </p></td><td><p>4 </p></td><td><p>1 </p></td><td><p>98.3%, n=4 </p></td><td><p>1672.1 sec, n=4 </p></td></tr><tr><td><p>Mobility </p></td><td><p>3 </p></td><td><p>3 </p></td><td><p>0 </p></td><td><p>95.4%, n=3 </p></td><td><p>1416 sec, n=3 </p></td></tr></table></body></html>'"
      ]
     },
     "execution_count": 54,
     "metadata": {},
     "output_type": "execute_result"
    }
   ],
   "source": [
    "str(S)"
   ]
  },
  {
   "cell_type": "code",
   "execution_count": 48,
   "metadata": {},
   "outputs": [
    {
     "data": {
      "text/plain": [
       "<_io.TextIOWrapper name='output/table.html' mode='r' encoding='UTF-8'>"
      ]
     },
     "execution_count": 48,
     "metadata": {},
     "output_type": "execute_result"
    }
   ],
   "source": [
    "HTMLFile"
   ]
  },
  {
   "cell_type": "code",
   "execution_count": 73,
   "metadata": {},
   "outputs": [
    {
     "ename": "IndexError",
     "evalue": "list index out of range",
     "output_type": "error",
     "traceback": [
      "\u001b[0;31m---------------------------------------------------------------------------\u001b[0m",
      "\u001b[0;31mIndexError\u001b[0m                                Traceback (most recent call last)",
      "\u001b[1;32m/home/ahmenders/Downloads/restAPI/restAPI/pdf-conversion/source.ipynb Cell 71\u001b[0m line \u001b[0;36m6\n\u001b[1;32m      <a href='vscode-notebook-cell:/home/ahmenders/Downloads/restAPI/restAPI/pdf-conversion/source.ipynb#Y136sZmlsZQ%3D%3D?line=2'>3</a>\u001b[0m \u001b[39m# do stuff to document\u001b[39;00m\n\u001b[1;32m      <a href='vscode-notebook-cell:/home/ahmenders/Downloads/restAPI/restAPI/pdf-conversion/source.ipynb#Y136sZmlsZQ%3D%3D?line=4'>5</a>\u001b[0m html \u001b[39m=\u001b[39m f\u001b[39m.\u001b[39mread()\n\u001b[0;32m----> <a href='vscode-notebook-cell:/home/ahmenders/Downloads/restAPI/restAPI/pdf-conversion/source.ipynb#Y136sZmlsZQ%3D%3D?line=5'>6</a>\u001b[0m new_parser\u001b[39m.\u001b[39;49madd_html_to_document(html, document)\n\u001b[1;32m      <a href='vscode-notebook-cell:/home/ahmenders/Downloads/restAPI/restAPI/pdf-conversion/source.ipynb#Y136sZmlsZQ%3D%3D?line=7'>8</a>\u001b[0m \u001b[39m# do more stuff to document\u001b[39;00m\n\u001b[1;32m      <a href='vscode-notebook-cell:/home/ahmenders/Downloads/restAPI/restAPI/pdf-conversion/source.ipynb#Y136sZmlsZQ%3D%3D?line=8'>9</a>\u001b[0m document\u001b[39m.\u001b[39msave(\u001b[39m'\u001b[39m\u001b[39myour_file_name.docx\u001b[39m\u001b[39m'\u001b[39m)\n",
      "File \u001b[0;32m~/.local/lib/python3.10/site-packages/htmldocx/h2d.py:591\u001b[0m, in \u001b[0;36mHtmlToDocx.add_html_to_document\u001b[0;34m(self, html, document)\u001b[0m\n\u001b[1;32m    589\u001b[0m     \u001b[39mraise\u001b[39;00m \u001b[39mValueError\u001b[39;00m(\u001b[39m'\u001b[39m\u001b[39mSecond argument needs to be a \u001b[39m\u001b[39m%s\u001b[39;00m\u001b[39m'\u001b[39m \u001b[39m%\u001b[39m docx\u001b[39m.\u001b[39mdocument\u001b[39m.\u001b[39mDocument)\n\u001b[1;32m    590\u001b[0m \u001b[39mself\u001b[39m\u001b[39m.\u001b[39mset_initial_attrs(document)\n\u001b[0;32m--> 591\u001b[0m \u001b[39mself\u001b[39;49m\u001b[39m.\u001b[39;49mrun_process(html)\n",
      "File \u001b[0;32m~/.local/lib/python3.10/site-packages/htmldocx/h2d.py:583\u001b[0m, in \u001b[0;36mHtmlToDocx.run_process\u001b[0;34m(self, html)\u001b[0m\n\u001b[1;32m    581\u001b[0m \u001b[39mif\u001b[39;00m \u001b[39mself\u001b[39m\u001b[39m.\u001b[39minclude_tables:\n\u001b[1;32m    582\u001b[0m     \u001b[39mself\u001b[39m\u001b[39m.\u001b[39mget_tables()\n\u001b[0;32m--> 583\u001b[0m \u001b[39mself\u001b[39;49m\u001b[39m.\u001b[39;49mfeed(html)\n",
      "File \u001b[0;32m/usr/lib/python3.10/html/parser.py:110\u001b[0m, in \u001b[0;36mHTMLParser.feed\u001b[0;34m(self, data)\u001b[0m\n\u001b[1;32m    104\u001b[0m \u001b[39m\u001b[39m\u001b[39mr\u001b[39m\u001b[39m\"\"\"Feed data to the parser.\u001b[39;00m\n\u001b[1;32m    105\u001b[0m \n\u001b[1;32m    106\u001b[0m \u001b[39mCall this as often as you want, with as little or as much text\u001b[39;00m\n\u001b[1;32m    107\u001b[0m \u001b[39mas you want (may include '\\n').\u001b[39;00m\n\u001b[1;32m    108\u001b[0m \u001b[39m\"\"\"\u001b[39;00m\n\u001b[1;32m    109\u001b[0m \u001b[39mself\u001b[39m\u001b[39m.\u001b[39mrawdata \u001b[39m=\u001b[39m \u001b[39mself\u001b[39m\u001b[39m.\u001b[39mrawdata \u001b[39m+\u001b[39m data\n\u001b[0;32m--> 110\u001b[0m \u001b[39mself\u001b[39;49m\u001b[39m.\u001b[39;49mgoahead(\u001b[39m0\u001b[39;49m)\n",
      "File \u001b[0;32m/usr/lib/python3.10/html/parser.py:170\u001b[0m, in \u001b[0;36mHTMLParser.goahead\u001b[0;34m(self, end)\u001b[0m\n\u001b[1;32m    168\u001b[0m \u001b[39mif\u001b[39;00m startswith(\u001b[39m'\u001b[39m\u001b[39m<\u001b[39m\u001b[39m'\u001b[39m, i):\n\u001b[1;32m    169\u001b[0m     \u001b[39mif\u001b[39;00m starttagopen\u001b[39m.\u001b[39mmatch(rawdata, i): \u001b[39m# < + letter\u001b[39;00m\n\u001b[0;32m--> 170\u001b[0m         k \u001b[39m=\u001b[39m \u001b[39mself\u001b[39;49m\u001b[39m.\u001b[39;49mparse_starttag(i)\n\u001b[1;32m    171\u001b[0m     \u001b[39melif\u001b[39;00m startswith(\u001b[39m\"\u001b[39m\u001b[39m</\u001b[39m\u001b[39m\"\u001b[39m, i):\n\u001b[1;32m    172\u001b[0m         k \u001b[39m=\u001b[39m \u001b[39mself\u001b[39m\u001b[39m.\u001b[39mparse_endtag(i)\n",
      "File \u001b[0;32m/usr/lib/python3.10/html/parser.py:344\u001b[0m, in \u001b[0;36mHTMLParser.parse_starttag\u001b[0;34m(self, i)\u001b[0m\n\u001b[1;32m    342\u001b[0m     \u001b[39mself\u001b[39m\u001b[39m.\u001b[39mhandle_startendtag(tag, attrs)\n\u001b[1;32m    343\u001b[0m \u001b[39melse\u001b[39;00m:\n\u001b[0;32m--> 344\u001b[0m     \u001b[39mself\u001b[39;49m\u001b[39m.\u001b[39;49mhandle_starttag(tag, attrs)\n\u001b[1;32m    345\u001b[0m     \u001b[39mif\u001b[39;00m tag \u001b[39min\u001b[39;00m \u001b[39mself\u001b[39m\u001b[39m.\u001b[39mCDATA_CONTENT_ELEMENTS:\n\u001b[1;32m    346\u001b[0m         \u001b[39mself\u001b[39m\u001b[39m.\u001b[39mset_cdata_mode(tag)\n",
      "File \u001b[0;32m~/.local/lib/python3.10/site-packages/htmldocx/h2d.py:453\u001b[0m, in \u001b[0;36mHtmlToDocx.handle_starttag\u001b[0;34m(self, tag, attrs)\u001b[0m\n\u001b[1;32m    450\u001b[0m     \u001b[39mreturn\u001b[39;00m\n\u001b[1;32m    452\u001b[0m \u001b[39melif\u001b[39;00m tag \u001b[39m==\u001b[39m \u001b[39m'\u001b[39m\u001b[39mtable\u001b[39m\u001b[39m'\u001b[39m:\n\u001b[0;32m--> 453\u001b[0m     \u001b[39mself\u001b[39;49m\u001b[39m.\u001b[39;49mhandle_table()\n\u001b[1;32m    454\u001b[0m     \u001b[39mreturn\u001b[39;00m\n\u001b[1;32m    456\u001b[0m \u001b[39m# set new run reference point in case of leading line breaks\u001b[39;00m\n",
      "File \u001b[0;32m~/.local/lib/python3.10/site-packages/htmldocx/h2d.py:337\u001b[0m, in \u001b[0;36mHtmlToDocx.handle_table\u001b[0;34m(self)\u001b[0m\n\u001b[1;32m    335\u001b[0m \u001b[39mif\u001b[39;00m col\u001b[39m.\u001b[39mname \u001b[39m==\u001b[39m \u001b[39m'\u001b[39m\u001b[39mth\u001b[39m\u001b[39m'\u001b[39m:\n\u001b[1;32m    336\u001b[0m     cell_html \u001b[39m=\u001b[39m \u001b[39m\"\u001b[39m\u001b[39m<b>\u001b[39m\u001b[39m%s\u001b[39;00m\u001b[39m</b>\u001b[39m\u001b[39m\"\u001b[39m \u001b[39m%\u001b[39m cell_html\n\u001b[0;32m--> 337\u001b[0m docx_cell \u001b[39m=\u001b[39m \u001b[39mself\u001b[39;49m\u001b[39m.\u001b[39;49mtable\u001b[39m.\u001b[39;49mcell(cell_row, cell_col)\n\u001b[1;32m    338\u001b[0m child_parser \u001b[39m=\u001b[39m HtmlToDocx()\n\u001b[1;32m    339\u001b[0m child_parser\u001b[39m.\u001b[39mcopy_settings_from(\u001b[39mself\u001b[39m)\n",
      "File \u001b[0;32m~/.local/lib/python3.10/site-packages/docx/table.py:81\u001b[0m, in \u001b[0;36mTable.cell\u001b[0;34m(self, row_idx, col_idx)\u001b[0m\n\u001b[1;32m     76\u001b[0m \u001b[39m\u001b[39m\u001b[39m\"\"\"\u001b[39;00m\n\u001b[1;32m     77\u001b[0m \u001b[39mReturn |_Cell| instance correponding to table cell at *row_idx*,\u001b[39;00m\n\u001b[1;32m     78\u001b[0m \u001b[39m*col_idx* intersection, where (0, 0) is the top, left-most cell.\u001b[39;00m\n\u001b[1;32m     79\u001b[0m \u001b[39m\"\"\"\u001b[39;00m\n\u001b[1;32m     80\u001b[0m cell_idx \u001b[39m=\u001b[39m col_idx \u001b[39m+\u001b[39m (row_idx \u001b[39m*\u001b[39m \u001b[39mself\u001b[39m\u001b[39m.\u001b[39m_column_count)\n\u001b[0;32m---> 81\u001b[0m \u001b[39mreturn\u001b[39;00m \u001b[39mself\u001b[39;49m\u001b[39m.\u001b[39;49m_cells[cell_idx]\n",
      "\u001b[0;31mIndexError\u001b[0m: list index out of range"
     ]
    }
   ],
   "source": [
    "document = Document()\n",
    "new_parser = HtmlToDocx()\n",
    "# do stuff to document\n",
    "\n",
    "html = f.read()\n",
    "new_parser.add_html_to_document(html, document)\n",
    "\n",
    "# do more stuff to document\n",
    "document.save('your_file_name.docx')"
   ]
  },
  {
   "cell_type": "code",
   "execution_count": null,
   "metadata": {},
   "outputs": [
    {
     "ename": "",
     "evalue": "",
     "output_type": "error",
     "traceback": [
      "\u001b[1;31mThe kernel failed to start as 'Mapping' could not be imported from '/usr/lib/python3.10/collections/__init__.py'.\n",
      "\u001b[1;31mClick <a href='https://aka.ms/kernelFailuresModuleImportErrFromFile'>here</a> for more info."
     ]
    }
   ],
   "source": [
    "f = open(\"output/table.html\", \"r\")"
   ]
  },
  {
   "cell_type": "code",
   "execution_count": 69,
   "metadata": {},
   "outputs": [
    {
     "data": {
      "text/plain": [
       "'<p><strong>Example table </strong><br />This is an example of a data table. </p><table><tr><td rowspan=\"2\"><p><strong>Disability Category </strong></p></td><td rowspan=\"2\"><p><strong>Participants </strong></p></td><td rowspan=\"2\"><p><strong>Ballots </strong><br /><strong>Completed </strong></p></td><td rowspan=\"2\"><p><strong>Ballots </strong><br /><strong>Incomplete/ Terminated </strong></p></td><td colspan=\"2\"><p><strong>Results </strong></p></td></tr><tr><td><p><strong>Accuracy </strong></p></td><td><p><strong>Time to </strong><br /><strong>complete </strong></p></td></tr><tr><td><p>Blind </p></td><td><p>5 </p></td><td><p>1 </p></td><td><p>4 </p></td><td><p>34.5%, n=1 </p></td><td><p>1199 sec, n=1 </p></td></tr><tr><td><p>Low Vision </p></td><td><p>5 </p></td><td><p>2 </p></td><td><p>3 </p></td><td><p>98.3% n=2 <br />(97.7%, n=3) </p></td><td><p>1716 sec, n=3 (1934 sec, n=2) </p></td></tr><tr><td><p>Dexterity </p></td><td><p>5 </p></td><td><p>4 </p></td><td><p>1 </p></td><td><p>98.3%, n=4 </p></td><td><p>1672.1 sec, n=4 </p></td></tr><tr><td><p>Mobility </p></td><td><p>3 </p></td><td><p>3 </p></td><td><p>0 </p></td><td><p>95.4%, n=3 </p></td><td><p>1416 sec, n=3 </p></td></tr></table>'"
      ]
     },
     "execution_count": 69,
     "metadata": {},
     "output_type": "execute_result"
    }
   ],
   "source": [
    "f.read()"
   ]
  },
  {
   "cell_type": "code",
   "execution_count": 65,
   "metadata": {},
   "outputs": [],
   "source": [
    "\n",
    "def getFilename(path):\n",
    "    file = path.split(\"/\")[-1]\n",
    "    file = file.split(\".\")[0]\n",
    "    return file"
   ]
  },
  {
   "cell_type": "code",
   "execution_count": 70,
   "metadata": {},
   "outputs": [],
   "source": [
    "def html2pdf(path, outputPath):\n",
    "    file = open(path, 'r').read()\n",
    "    filename = getFilename(path)\n",
    "    \n",
    "    out = f\"{outputPath}/{filename}.docx\"\n",
    "    \n",
    "    document = Document()\n",
    "    new_parser = HtmlToDocx()\n",
    "    # do stuff to document\n",
    "\n",
    "    new_parser.add_html_to_document(file, document)\n",
    "\n",
    "    # do more stuff to document\n",
    "    document.save(out)\n",
    "    \n",
    "    ret = docx2pdf(out, outputPath)\n",
    "    os.remove(out)\n",
    "    \n",
    "    return ret"
   ]
  },
  {
   "cell_type": "code",
   "execution_count": 71,
   "metadata": {},
   "outputs": [
    {
     "ename": "IndexError",
     "evalue": "list index out of range",
     "output_type": "error",
     "traceback": [
      "\u001b[0;31m---------------------------------------------------------------------------\u001b[0m",
      "\u001b[0;31mIndexError\u001b[0m                                Traceback (most recent call last)",
      "\u001b[1;32m/home/ahmenders/Downloads/restAPI/restAPI/pdf-conversion/source.ipynb Cell 76\u001b[0m line \u001b[0;36m1\n\u001b[0;32m----> <a href='vscode-notebook-cell:/home/ahmenders/Downloads/restAPI/restAPI/pdf-conversion/source.ipynb#Y150sZmlsZQ%3D%3D?line=0'>1</a>\u001b[0m html2docx(\u001b[39m\"\u001b[39;49m\u001b[39moutput/table.html\u001b[39;49m\u001b[39m\"\u001b[39;49m, \u001b[39m\"\u001b[39;49m\u001b[39moutput\u001b[39;49m\u001b[39m\"\u001b[39;49m)\n",
      "\u001b[1;32m/home/ahmenders/Downloads/restAPI/restAPI/pdf-conversion/source.ipynb Cell 76\u001b[0m line \u001b[0;36m1\n\u001b[1;32m      <a href='vscode-notebook-cell:/home/ahmenders/Downloads/restAPI/restAPI/pdf-conversion/source.ipynb#Y150sZmlsZQ%3D%3D?line=7'>8</a>\u001b[0m new_parser \u001b[39m=\u001b[39m HtmlToDocx()\n\u001b[1;32m      <a href='vscode-notebook-cell:/home/ahmenders/Downloads/restAPI/restAPI/pdf-conversion/source.ipynb#Y150sZmlsZQ%3D%3D?line=8'>9</a>\u001b[0m \u001b[39m# do stuff to document\u001b[39;00m\n\u001b[0;32m---> <a href='vscode-notebook-cell:/home/ahmenders/Downloads/restAPI/restAPI/pdf-conversion/source.ipynb#Y150sZmlsZQ%3D%3D?line=10'>11</a>\u001b[0m new_parser\u001b[39m.\u001b[39;49madd_html_to_document(file, document)\n\u001b[1;32m     <a href='vscode-notebook-cell:/home/ahmenders/Downloads/restAPI/restAPI/pdf-conversion/source.ipynb#Y150sZmlsZQ%3D%3D?line=12'>13</a>\u001b[0m \u001b[39m# do more stuff to document\u001b[39;00m\n\u001b[1;32m     <a href='vscode-notebook-cell:/home/ahmenders/Downloads/restAPI/restAPI/pdf-conversion/source.ipynb#Y150sZmlsZQ%3D%3D?line=13'>14</a>\u001b[0m document\u001b[39m.\u001b[39msave(out)\n",
      "File \u001b[0;32m~/.local/lib/python3.10/site-packages/htmldocx/h2d.py:591\u001b[0m, in \u001b[0;36mHtmlToDocx.add_html_to_document\u001b[0;34m(self, html, document)\u001b[0m\n\u001b[1;32m    589\u001b[0m     \u001b[39mraise\u001b[39;00m \u001b[39mValueError\u001b[39;00m(\u001b[39m'\u001b[39m\u001b[39mSecond argument needs to be a \u001b[39m\u001b[39m%s\u001b[39;00m\u001b[39m'\u001b[39m \u001b[39m%\u001b[39m docx\u001b[39m.\u001b[39mdocument\u001b[39m.\u001b[39mDocument)\n\u001b[1;32m    590\u001b[0m \u001b[39mself\u001b[39m\u001b[39m.\u001b[39mset_initial_attrs(document)\n\u001b[0;32m--> 591\u001b[0m \u001b[39mself\u001b[39;49m\u001b[39m.\u001b[39;49mrun_process(html)\n",
      "File \u001b[0;32m~/.local/lib/python3.10/site-packages/htmldocx/h2d.py:583\u001b[0m, in \u001b[0;36mHtmlToDocx.run_process\u001b[0;34m(self, html)\u001b[0m\n\u001b[1;32m    581\u001b[0m \u001b[39mif\u001b[39;00m \u001b[39mself\u001b[39m\u001b[39m.\u001b[39minclude_tables:\n\u001b[1;32m    582\u001b[0m     \u001b[39mself\u001b[39m\u001b[39m.\u001b[39mget_tables()\n\u001b[0;32m--> 583\u001b[0m \u001b[39mself\u001b[39;49m\u001b[39m.\u001b[39;49mfeed(html)\n",
      "File \u001b[0;32m/usr/lib/python3.10/html/parser.py:110\u001b[0m, in \u001b[0;36mHTMLParser.feed\u001b[0;34m(self, data)\u001b[0m\n\u001b[1;32m    104\u001b[0m \u001b[39m\u001b[39m\u001b[39mr\u001b[39m\u001b[39m\"\"\"Feed data to the parser.\u001b[39;00m\n\u001b[1;32m    105\u001b[0m \n\u001b[1;32m    106\u001b[0m \u001b[39mCall this as often as you want, with as little or as much text\u001b[39;00m\n\u001b[1;32m    107\u001b[0m \u001b[39mas you want (may include '\\n').\u001b[39;00m\n\u001b[1;32m    108\u001b[0m \u001b[39m\"\"\"\u001b[39;00m\n\u001b[1;32m    109\u001b[0m \u001b[39mself\u001b[39m\u001b[39m.\u001b[39mrawdata \u001b[39m=\u001b[39m \u001b[39mself\u001b[39m\u001b[39m.\u001b[39mrawdata \u001b[39m+\u001b[39m data\n\u001b[0;32m--> 110\u001b[0m \u001b[39mself\u001b[39;49m\u001b[39m.\u001b[39;49mgoahead(\u001b[39m0\u001b[39;49m)\n",
      "File \u001b[0;32m/usr/lib/python3.10/html/parser.py:170\u001b[0m, in \u001b[0;36mHTMLParser.goahead\u001b[0;34m(self, end)\u001b[0m\n\u001b[1;32m    168\u001b[0m \u001b[39mif\u001b[39;00m startswith(\u001b[39m'\u001b[39m\u001b[39m<\u001b[39m\u001b[39m'\u001b[39m, i):\n\u001b[1;32m    169\u001b[0m     \u001b[39mif\u001b[39;00m starttagopen\u001b[39m.\u001b[39mmatch(rawdata, i): \u001b[39m# < + letter\u001b[39;00m\n\u001b[0;32m--> 170\u001b[0m         k \u001b[39m=\u001b[39m \u001b[39mself\u001b[39;49m\u001b[39m.\u001b[39;49mparse_starttag(i)\n\u001b[1;32m    171\u001b[0m     \u001b[39melif\u001b[39;00m startswith(\u001b[39m\"\u001b[39m\u001b[39m</\u001b[39m\u001b[39m\"\u001b[39m, i):\n\u001b[1;32m    172\u001b[0m         k \u001b[39m=\u001b[39m \u001b[39mself\u001b[39m\u001b[39m.\u001b[39mparse_endtag(i)\n",
      "File \u001b[0;32m/usr/lib/python3.10/html/parser.py:344\u001b[0m, in \u001b[0;36mHTMLParser.parse_starttag\u001b[0;34m(self, i)\u001b[0m\n\u001b[1;32m    342\u001b[0m     \u001b[39mself\u001b[39m\u001b[39m.\u001b[39mhandle_startendtag(tag, attrs)\n\u001b[1;32m    343\u001b[0m \u001b[39melse\u001b[39;00m:\n\u001b[0;32m--> 344\u001b[0m     \u001b[39mself\u001b[39;49m\u001b[39m.\u001b[39;49mhandle_starttag(tag, attrs)\n\u001b[1;32m    345\u001b[0m     \u001b[39mif\u001b[39;00m tag \u001b[39min\u001b[39;00m \u001b[39mself\u001b[39m\u001b[39m.\u001b[39mCDATA_CONTENT_ELEMENTS:\n\u001b[1;32m    346\u001b[0m         \u001b[39mself\u001b[39m\u001b[39m.\u001b[39mset_cdata_mode(tag)\n",
      "File \u001b[0;32m~/.local/lib/python3.10/site-packages/htmldocx/h2d.py:453\u001b[0m, in \u001b[0;36mHtmlToDocx.handle_starttag\u001b[0;34m(self, tag, attrs)\u001b[0m\n\u001b[1;32m    450\u001b[0m     \u001b[39mreturn\u001b[39;00m\n\u001b[1;32m    452\u001b[0m \u001b[39melif\u001b[39;00m tag \u001b[39m==\u001b[39m \u001b[39m'\u001b[39m\u001b[39mtable\u001b[39m\u001b[39m'\u001b[39m:\n\u001b[0;32m--> 453\u001b[0m     \u001b[39mself\u001b[39;49m\u001b[39m.\u001b[39;49mhandle_table()\n\u001b[1;32m    454\u001b[0m     \u001b[39mreturn\u001b[39;00m\n\u001b[1;32m    456\u001b[0m \u001b[39m# set new run reference point in case of leading line breaks\u001b[39;00m\n",
      "File \u001b[0;32m~/.local/lib/python3.10/site-packages/htmldocx/h2d.py:337\u001b[0m, in \u001b[0;36mHtmlToDocx.handle_table\u001b[0;34m(self)\u001b[0m\n\u001b[1;32m    335\u001b[0m \u001b[39mif\u001b[39;00m col\u001b[39m.\u001b[39mname \u001b[39m==\u001b[39m \u001b[39m'\u001b[39m\u001b[39mth\u001b[39m\u001b[39m'\u001b[39m:\n\u001b[1;32m    336\u001b[0m     cell_html \u001b[39m=\u001b[39m \u001b[39m\"\u001b[39m\u001b[39m<b>\u001b[39m\u001b[39m%s\u001b[39;00m\u001b[39m</b>\u001b[39m\u001b[39m\"\u001b[39m \u001b[39m%\u001b[39m cell_html\n\u001b[0;32m--> 337\u001b[0m docx_cell \u001b[39m=\u001b[39m \u001b[39mself\u001b[39;49m\u001b[39m.\u001b[39;49mtable\u001b[39m.\u001b[39;49mcell(cell_row, cell_col)\n\u001b[1;32m    338\u001b[0m child_parser \u001b[39m=\u001b[39m HtmlToDocx()\n\u001b[1;32m    339\u001b[0m child_parser\u001b[39m.\u001b[39mcopy_settings_from(\u001b[39mself\u001b[39m)\n",
      "File \u001b[0;32m~/.local/lib/python3.10/site-packages/docx/table.py:81\u001b[0m, in \u001b[0;36mTable.cell\u001b[0;34m(self, row_idx, col_idx)\u001b[0m\n\u001b[1;32m     76\u001b[0m \u001b[39m\u001b[39m\u001b[39m\"\"\"\u001b[39;00m\n\u001b[1;32m     77\u001b[0m \u001b[39mReturn |_Cell| instance correponding to table cell at *row_idx*,\u001b[39;00m\n\u001b[1;32m     78\u001b[0m \u001b[39m*col_idx* intersection, where (0, 0) is the top, left-most cell.\u001b[39;00m\n\u001b[1;32m     79\u001b[0m \u001b[39m\"\"\"\u001b[39;00m\n\u001b[1;32m     80\u001b[0m cell_idx \u001b[39m=\u001b[39m col_idx \u001b[39m+\u001b[39m (row_idx \u001b[39m*\u001b[39m \u001b[39mself\u001b[39m\u001b[39m.\u001b[39m_column_count)\n\u001b[0;32m---> 81\u001b[0m \u001b[39mreturn\u001b[39;00m \u001b[39mself\u001b[39;49m\u001b[39m.\u001b[39;49m_cells[cell_idx]\n",
      "\u001b[0;31mIndexError\u001b[0m: list index out of range"
     ]
    }
   ],
   "source": [
    "html2pdf(\"output/table.html\", \"output\")"
   ]
  },
  {
   "cell_type": "code",
   "execution_count": null,
   "metadata": {},
   "outputs": [],
   "source": []
  }
 ],
 "metadata": {
  "kernelspec": {
   "display_name": "env",
   "language": "python",
   "name": "python3"
  },
  "language_info": {
   "codemirror_mode": {
    "name": "ipython",
    "version": 3
   },
   "file_extension": ".py",
   "mimetype": "text/x-python",
   "name": "python",
   "nbconvert_exporter": "python",
   "pygments_lexer": "ipython3",
   "version": "3.10.12"
  },
  "orig_nbformat": 4
 },
 "nbformat": 4,
 "nbformat_minor": 2
}
