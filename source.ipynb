{
 "cells": [
  {
   "cell_type": "code",
   "execution_count": 8,
   "metadata": {},
   "outputs": [],
   "source": [
    "from collections.abc import Iterable "
   ]
  },
  {
   "cell_type": "code",
   "execution_count": 1,
   "metadata": {},
   "outputs": [],
   "source": [
    "# pip install --upgrade pdf2docx\n"
   ]
  },
  {
   "cell_type": "code",
   "execution_count": 30,
   "metadata": {},
   "outputs": [],
   "source": [
    "pdf_file = 'cv.pdf'\n",
    "docx_file = 'samplep1.docx'"
   ]
  },
  {
   "cell_type": "code",
   "execution_count": 9,
   "metadata": {},
   "outputs": [],
   "source": [
    "from pdf2docx import Converter"
   ]
  },
  {
   "cell_type": "code",
   "execution_count": 10,
   "metadata": {},
   "outputs": [],
   "source": [
    "from pdf2docx import parse\n"
   ]
  },
  {
   "cell_type": "code",
   "execution_count": 33,
   "metadata": {},
   "outputs": [
    {
     "name": "stderr",
     "output_type": "stream",
     "text": [
      "[INFO] Start to convert cv.pdf\n",
      "[INFO] \u001b[1;36m[1/4] Opening document...\u001b[0m\n",
      "[INFO] \u001b[1;36m[2/4] Analyzing document...\u001b[0m\n",
      "[INFO] \u001b[1;36m[3/4] Parsing pages...\u001b[0m\n",
      "[INFO] (1/2) Page 1\n",
      "[INFO] (2/2) Page 2\n",
      "[INFO] \u001b[1;36m[4/4] Creating pages...\u001b[0m\n",
      "[INFO] (1/2) Page 1\n",
      "[INFO] (2/2) Page 2\n",
      "[INFO] Terminated in 2.74s.\n"
     ]
    }
   ],
   "source": [
    "parse(pdf_file, docx_file)\n"
   ]
  },
  {
   "cell_type": "code",
   "execution_count": 27,
   "metadata": {},
   "outputs": [
    {
     "name": "stderr",
     "output_type": "stream",
     "text": [
      "[INFO] Start to convert cv.pdf\n",
      "[INFO] \u001b[1;36m[1/4] Opening document...\u001b[0m\n",
      "[INFO] \u001b[1;36m[2/4] Analyzing document...\u001b[0m\n",
      "[INFO] \u001b[1;36m[3/4] Parsing pages...\u001b[0m\n",
      "[INFO] (1/1) Page 1\n",
      "[INFO] \u001b[1;36m[4/4] Creating pages...\u001b[0m\n",
      "[INFO] (1/1) Page 1\n",
      "[INFO] Terminated in 1.54s.\n",
      "[INFO] Start to convert cv.pdf\n",
      "[INFO] \u001b[1;36m[1/4] Opening document...\u001b[0m\n",
      "[INFO] \u001b[1;36m[2/4] Analyzing document...\u001b[0m\n",
      "[INFO] \u001b[1;36m[3/4] Parsing pages...\u001b[0m\n",
      "[INFO] (1/1) Page 2\n",
      "[INFO] \u001b[1;36m[4/4] Creating pages...\u001b[0m\n",
      "[INFO] (1/1) Page 2\n",
      "[INFO] Terminated in 1.04s.\n"
     ]
    }
   ],
   "source": [
    "docx_file = 'samplep.docx'\n",
    "pages_list = [0]\n",
    "# convert pdf to docx\n",
    "cv = Converter(pdf_file)\n",
    "cv.convert(docx_file, pages = pages_list)      # all pages by default\n",
    "cv.close()\n",
    "\n",
    "docx_file = 'samplep0.docx'\n",
    "pages_list = [1]\n",
    "# convert pdf to docx\n",
    "cv = Converter(pdf_file)\n",
    "cv.convert(docx_file, pages = pages_list) \n",
    "\n",
    "\n",
    "cv.close()"
   ]
  },
  {
   "cell_type": "code",
   "execution_count": 1,
   "metadata": {},
   "outputs": [],
   "source": [
    "import fitz  # PyMuPDF\n",
    "def count_pdf_pages(pdf_file_path):\n",
    "    try:\n",
    "        pdf_document = fitz.open(pdf_file_path)\n",
    "        num_pages = pdf_document.page_count\n",
    "        return num_pages\n",
    "    except Exception as e:\n",
    "        print(f\"An error occurred: {str(e)}\")\n",
    "        return None"
   ]
  },
  {
   "cell_type": "code",
   "execution_count": 2,
   "metadata": {},
   "outputs": [
    {
     "data": {
      "text/plain": [
       "2"
      ]
     },
     "execution_count": 2,
     "metadata": {},
     "output_type": "execute_result"
    }
   ],
   "source": [
    "count_pdf_pages(\"cv.pdf\")"
   ]
  },
  {
   "cell_type": "code",
   "execution_count": 6,
   "metadata": {},
   "outputs": [],
   "source": [
    "def getFilename(path):\n",
    "    file = path.split(\"/\")[-1]\n",
    "    file = file.split(\".\")[0]\n",
    "    return file"
   ]
  },
  {
   "cell_type": "code",
   "execution_count": 17,
   "metadata": {},
   "outputs": [],
   "source": [
    "import os\n",
    "from docx import Document\n",
    "from docxcompose.composer import Composer\n",
    "\n",
    "\n",
    "\n",
    "def pdf2doc(path, outputPath):\n",
    "    pdf_file = path\n",
    "    filename = getFilename(path)\n",
    "    # docx_file = f\"{outputPath}/{filename}.docx\"\n",
    "\n",
    "    num_pages = count_pdf_pages(pdf_file)\n",
    "\n",
    "    for i in range(num_pages):\n",
    "        docx_file = f'{outputPath}/{filename}{i}.docx'\n",
    "\n",
    "        # convert pdf to docx\n",
    "        cv = Converter(pdf_file)\n",
    "        cv.convert(docx_file, start=i, end= i + 1)      # all pages by default\n",
    "        cv.close()\n",
    "    \n",
    "    master = Document(f\"{outputPath}/{filename}{0}.docx\")\n",
    "    composer = Composer(master)\n",
    "    os.remove(f\"{outputPath}/{filename}{0}.docx\")\n",
    "        \n",
    "    for i in range(1, num_pages):\n",
    "        doc = Document(f\"{outputPath}/{filename}{i}.docx\")\n",
    "        composer.append(doc)\n",
    "        os.remove(f\"{outputPath}/{filename}{i}.docx\")\n",
    "        \n",
    "    docx_file = f\"{outputPath}/{filename}.docx\"\n",
    "    composer.save(docx_file)\n",
    "    \n",
    "    return docx_file"
   ]
  },
  {
   "cell_type": "code",
   "execution_count": 18,
   "metadata": {},
   "outputs": [
    {
     "name": "stderr",
     "output_type": "stream",
     "text": [
      "[INFO] Start to convert cv.pdf\n",
      "[INFO] \u001b[1;36m[1/4] Opening document...\u001b[0m\n",
      "[INFO] \u001b[1;36m[2/4] Analyzing document...\u001b[0m\n",
      "[INFO] \u001b[1;36m[3/4] Parsing pages...\u001b[0m\n",
      "[INFO] (1/1) Page 1\n",
      "[INFO] \u001b[1;36m[4/4] Creating pages...\u001b[0m\n",
      "[INFO] (1/1) Page 1\n",
      "[INFO] Terminated in 1.56s.\n",
      "[INFO] Start to convert cv.pdf\n",
      "[INFO] \u001b[1;36m[1/4] Opening document...\u001b[0m\n",
      "[INFO] \u001b[1;36m[2/4] Analyzing document...\u001b[0m\n",
      "[INFO] \u001b[1;36m[3/4] Parsing pages...\u001b[0m\n",
      "[INFO] (1/1) Page 2\n",
      "[INFO] \u001b[1;36m[4/4] Creating pages...\u001b[0m\n",
      "[INFO] (1/1) Page 2\n",
      "[INFO] Terminated in 1.15s.\n"
     ]
    },
    {
     "data": {
      "text/plain": [
       "'./output/cv.docx'"
      ]
     },
     "execution_count": 18,
     "metadata": {},
     "output_type": "execute_result"
    }
   ],
   "source": [
    "pdf2doc(\"cv.pdf\", \"./output\")"
   ]
  },
  {
   "cell_type": "code",
   "execution_count": 12,
   "metadata": {},
   "outputs": [
    {
     "name": "stderr",
     "output_type": "stream",
     "text": [
      "[INFO] Start to convert cv.pdf\n",
      "[INFO] \u001b[1;36m[1/4] Opening document...\u001b[0m\n",
      "[INFO] \u001b[1;36m[2/4] Analyzing document...\u001b[0m\n",
      "[INFO] \u001b[1;36m[3/4] Parsing pages...\u001b[0m\n",
      "[INFO] (1/1) Page 2\n",
      "[INFO] \u001b[1;36m[4/4] Creating pages...\u001b[0m\n",
      "[INFO] (1/1) Page 2\n",
      "[INFO] Terminated in 1.13s.\n"
     ]
    }
   ],
   "source": [
    "# pdf_file = 'cv.pdf'\n",
    "# docx_file = 'sample1.docx'\n",
    "\n",
    "# convert pdf to docx\n",
    "cv = Converter(pdf_file)\n",
    "cv.convert(docx_file, start=1, end=2)      # all pages by default\n",
    "cv.close()"
   ]
  },
  {
   "cell_type": "code",
   "execution_count": 1,
   "metadata": {},
   "outputs": [
    {
     "name": "stdout",
     "output_type": "stream",
     "text": [
      "Collecting docxcompose==1.0.0a1\n",
      "  Downloading docxcompose-1.0.0a1.zip (8.1 kB)\n",
      "  Preparing metadata (setup.py) ... \u001b[?25ldone\n",
      "\u001b[?25hRequirement already satisfied: python-docx in /home/ahmenders/Downloads/restAPI/restProject/lib/python3.10/site-packages (from docxcompose==1.0.0a1) (0.8.11)\n",
      "Requirement already satisfied: setuptools in /home/ahmenders/Downloads/restAPI/restProject/lib/python3.10/site-packages (from docxcompose==1.0.0a1) (59.6.0)\n",
      "Requirement already satisfied: lxml>=2.3.2 in /home/ahmenders/Downloads/restAPI/restProject/lib/python3.10/site-packages (from python-docx->docxcompose==1.0.0a1) (4.9.3)\n",
      "Using legacy 'setup.py install' for docxcompose, since package 'wheel' is not installed.\n",
      "Installing collected packages: docxcompose\n",
      "  Running setup.py install for docxcompose ... \u001b[?25ldone\n",
      "\u001b[?25hSuccessfully installed docxcompose-1.0.0a1\n",
      "Note: you may need to restart the kernel to use updated packages.\n"
     ]
    }
   ],
   "source": [
    "pip install docxcompose==1.0.0a1"
   ]
  },
  {
   "cell_type": "code",
   "execution_count": 2,
   "metadata": {},
   "outputs": [],
   "source": [
    "from docxcompose.composer import Composer\n",
    "from docx import Document\n",
    "master = Document(\"samplep.docx\")\n",
    "composer = Composer(master)\n",
    "doc1 = Document(\"samplep0.docx\")\n",
    "composer.append(doc1)\n",
    "composer.save(\"combined.docx\")"
   ]
  },
  {
   "cell_type": "code",
   "execution_count": 36,
   "metadata": {},
   "outputs": [],
   "source": [
    "import aspose as aw"
   ]
  },
  {
   "cell_type": "code",
   "execution_count": 2,
   "metadata": {},
   "outputs": [],
   "source": [
    "import docx\n",
    "import re\n",
    "\n",
    "def format_docx_document(input_docx_path, output_docx_path):\n",
    "    try:\n",
    "        # Open the input .docx document\n",
    "        doc = docx.Document(input_docx_path)\n",
    "        \n",
    "        # Create a list to store paragraphs after formatting\n",
    "        formatted_paragraphs = []\n",
    "\n",
    "        for paragraph in doc.paragraphs:\n",
    "            # Remove extra white spaces and format each paragraph\n",
    "            cleaned_text = re.sub(r'\\s+', ' ', paragraph.text).strip()\n",
    "            formatted_paragraphs.append(cleaned_text)\n",
    "\n",
    "        # Create a new .docx document for output\n",
    "        output_doc = docx.Document()\n",
    "\n",
    "        # Add the formatted paragraphs to the new document\n",
    "        for formatted_paragraph in formatted_paragraphs:\n",
    "            output_doc.add_paragraph(formatted_paragraph)\n",
    "\n",
    "        # Save the formatted .docx document\n",
    "        output_doc.save(output_docx_path)\n",
    "\n",
    "        print(\"Document formatted and saved to\", output_docx_path)\n",
    "\n",
    "    except FileNotFoundError:\n",
    "        print(\"Input file not found.\")"
   ]
  },
  {
   "cell_type": "code",
   "execution_count": 3,
   "metadata": {},
   "outputs": [
    {
     "name": "stdout",
     "output_type": "stream",
     "text": [
      "Document formatted and saved to samplrOutput.docx\n"
     ]
    }
   ],
   "source": [
    "# Example usage:\n",
    "input_docx_file = \"sample.docx\"\n",
    "output_docx_file = \"samplrOutput.docx\"\n",
    "\n",
    "format_docx_document(input_docx_file, output_docx_file)"
   ]
  },
  {
   "cell_type": "markdown",
   "metadata": {},
   "source": [
    "---"
   ]
  },
  {
   "cell_type": "code",
   "execution_count": 5,
   "metadata": {},
   "outputs": [
    {
     "name": "stderr",
     "output_type": "stream",
     "text": [
      "[INFO] pikepdf C++ to Python logger bridge initialized\n"
     ]
    }
   ],
   "source": [
    "import pdf2jpg\n",
    "from pdf2jpg import pdf2jpg"
   ]
  },
  {
   "cell_type": "code",
   "execution_count": 7,
   "metadata": {},
   "outputs": [],
   "source": [
    "import os\n",
    "import sys"
   ]
  },
  {
   "cell_type": "code",
   "execution_count": 8,
   "metadata": {},
   "outputs": [
    {
     "name": "stderr",
     "output_type": "stream",
     "text": [
      "Exception in thread \"main\" java.lang.OutOfMemoryError: Java heap space\n",
      "\tat java.desktop/java.awt.image.DataBufferInt.<init>(DataBufferInt.java:75)\n",
      "\tat java.desktop/java.awt.image.Raster.createPackedRaster(Raster.java:467)\n",
      "\tat java.desktop/java.awt.image.DirectColorModel.createCompatibleWritableRaster(DirectColorModel.java:1032)\n",
      "\tat java.desktop/java.awt.image.BufferedImage.<init>(BufferedImage.java:333)\n",
      "\tat java.desktop/sun.java2d.loops.GraphicsPrimitive.convertFrom(GraphicsPrimitive.java:561)\n",
      "\tat java.desktop/sun.java2d.loops.GraphicsPrimitive.convertFrom(GraphicsPrimitive.java:545)\n",
      "\tat java.desktop/sun.java2d.loops.MaskBlit$General.MaskBlit(MaskBlit.java:209)\n",
      "\tat java.desktop/sun.java2d.loops.Blit$GeneralMaskBlit.Blit(Blit.java:204)\n",
      "\tat java.desktop/sun.java2d.pipe.DrawImage.renderImageXform(DrawImage.java:552)\n",
      "\tat java.desktop/sun.java2d.pipe.DrawImage.transformImage(DrawImage.java:212)\n",
      "\tat java.desktop/sun.java2d.pipe.DrawImage.transformImage(DrawImage.java:1098)\n",
      "\tat java.desktop/sun.java2d.pipe.ValidatePipe.transformImage(ValidatePipe.java:230)\n",
      "\tat java.desktop/sun.java2d.SunGraphics2D.transformImage(SunGraphics2D.java:3227)\n",
      "\tat java.desktop/sun.java2d.SunGraphics2D.drawImage(SunGraphics2D.java:3573)\n",
      "\tat org.apache.pdfbox.rendering.PageDrawer.drawBufferedImage(PageDrawer.java:1030)\n",
      "\tat org.apache.pdfbox.rendering.PageDrawer.drawImage(PageDrawer.java:988)\n",
      "\tat org.apache.pdfbox.contentstream.operator.graphics.DrawObject.process(DrawObject.java:62)\n",
      "\tat org.apache.pdfbox.contentstream.PDFStreamEngine.processOperator(PDFStreamEngine.java:838)\n",
      "\tat org.apache.pdfbox.contentstream.PDFStreamEngine.processStreamOperators(PDFStreamEngine.java:495)\n",
      "\tat org.apache.pdfbox.contentstream.PDFStreamEngine.processTilingPattern(PDFStreamEngine.java:394)\n",
      "\tat org.apache.pdfbox.rendering.PageDrawer.drawTilingPattern(PageDrawer.java:244)\n",
      "\tat org.apache.pdfbox.rendering.TilingPaint.getImage(TilingPaint.java:187)\n",
      "\tat org.apache.pdfbox.rendering.TilingPaint.<init>(TilingPaint.java:107)\n",
      "\tat org.apache.pdfbox.rendering.TilingPaintFactory.create(TilingPaintFactory.java:53)\n",
      "\tat org.apache.pdfbox.rendering.PageDrawer.getPaint(PageDrawer.java:283)\n",
      "\tat org.apache.pdfbox.rendering.PageDrawer.getNonStrokingPaint(PageDrawer.java:629)\n",
      "\tat org.apache.pdfbox.rendering.PageDrawer.fillPath(PageDrawer.java:701)\n",
      "\tat org.apache.pdfbox.contentstream.operator.graphics.FillNonZeroRule.process(FillNonZeroRule.java:36)\n",
      "\tat org.apache.pdfbox.contentstream.PDFStreamEngine.processOperator(PDFStreamEngine.java:838)\n",
      "\tat org.apache.pdfbox.contentstream.PDFStreamEngine.processStreamOperators(PDFStreamEngine.java:495)\n",
      "\tat org.apache.pdfbox.contentstream.PDFStreamEngine.processStream(PDFStreamEngine.java:469)\n",
      "\tat org.apache.pdfbox.contentstream.PDFStreamEngine.processPage(PDFStreamEngine.java:150)\n"
     ]
    },
    {
     "name": "stdout",
     "output_type": "stream",
     "text": [
      "Command '['java', '-jar', '/home/ahmenders/Downloads/restAPI/restProject/lib/python3.10/site-packages/pdf2jpg/pdf2jpg.jar', '-i', 'cv.pdf', '-o', 'File1.jpg', '-d', '300', '-p', 'ALL']' returned non-zero exit status 1.\n"
     ]
    }
   ],
   "source": [
    "Source = \"cv.pdf\"\n",
    "Destination = \"File1.jpg\"\n",
    "Final = pdf2jpg.convert_pdf2jpg(  Source , Destination )\n",
    "# print(Final)"
   ]
  },
  {
   "cell_type": "code",
   "execution_count": null,
   "metadata": {},
   "outputs": [],
   "source": []
  },
  {
   "cell_type": "code",
   "execution_count": 6,
   "metadata": {},
   "outputs": [],
   "source": [
    "# pip install pdf2jpg"
   ]
  },
  {
   "cell_type": "code",
   "execution_count": 9,
   "metadata": {},
   "outputs": [
    {
     "name": "stdout",
     "output_type": "stream",
     "text": [
      "Collecting pdf2pptx\n",
      "  Downloading pdf2pptx-1.0.5-py3-none-any.whl (4.6 kB)\n",
      "Collecting click\n",
      "  Downloading click-8.1.7-py3-none-any.whl (97 kB)\n",
      "\u001b[2K     \u001b[90m━━━━━━━━━━━━━━━━━━━━━━━━━━━━━━━━━━━━━━━\u001b[0m \u001b[32m97.9/97.9 KB\u001b[0m \u001b[31m861.0 kB/s\u001b[0m eta \u001b[36m0:00:00\u001b[0ma \u001b[36m0:00:01\u001b[0m\n",
      "\u001b[?25hCollecting pymupdf==1.20.1\n",
      "  Downloading PyMuPDF-1.20.1-cp310-cp310-manylinux_2_17_x86_64.manylinux2014_x86_64.whl (8.9 MB)\n",
      "\u001b[2K     \u001b[90m━━━━━━━━━━━━━━━━━━━━━━━━━━━━━━━━━━━━━━━━\u001b[0m \u001b[32m8.9/8.9 MB\u001b[0m \u001b[31m246.0 kB/s\u001b[0m eta \u001b[36m0:00:00\u001b[0m00:01\u001b[0m00:01\u001b[0m\n",
      "\u001b[?25hCollecting python-pptx\n",
      "  Using cached python_pptx-0.6.22-py3-none-any.whl (471 kB)\n",
      "Collecting tqdm\n",
      "  Downloading tqdm-4.66.1-py3-none-any.whl (78 kB)\n",
      "\u001b[2K     \u001b[90m━━━━━━━━━━━━━━━━━━━━━━━━━━━━━━━━━━━━━━━\u001b[0m \u001b[32m78.3/78.3 KB\u001b[0m \u001b[31m457.0 kB/s\u001b[0m eta \u001b[36m0:00:00\u001b[0ma \u001b[36m0:00:01\u001b[0m\n",
      "\u001b[?25hCollecting XlsxWriter>=0.5.7\n",
      "  Downloading XlsxWriter-3.1.3-py3-none-any.whl (153 kB)\n",
      "\u001b[2K     \u001b[90m━━━━━━━━━━━━━━━━━━━━━━━━━━━━━━━━━━━━━\u001b[0m \u001b[32m153.2/153.2 KB\u001b[0m \u001b[31m405.2 kB/s\u001b[0m eta \u001b[36m0:00:00\u001b[0ma \u001b[36m0:00:01\u001b[0m\n",
      "\u001b[?25hCollecting Pillow<=9.5.0,>=3.3.2\n",
      "  Using cached Pillow-9.5.0-cp310-cp310-manylinux_2_28_x86_64.whl (3.4 MB)\n",
      "Requirement already satisfied: lxml>=3.1.0 in /home/ahmenders/Downloads/restAPI/restProject/lib/python3.10/site-packages (from python-pptx->pdf2pptx) (4.9.3)\n",
      "Installing collected packages: XlsxWriter, tqdm, pymupdf, Pillow, click, python-pptx, pdf2pptx\n",
      "  Attempting uninstall: pymupdf\n",
      "    Found existing installation: PyMuPDF 1.23.3\n",
      "    Uninstalling PyMuPDF-1.23.3:\n",
      "      Successfully uninstalled PyMuPDF-1.23.3\n",
      "  Attempting uninstall: Pillow\n",
      "    Found existing installation: Pillow 10.0.1\n",
      "    Uninstalling Pillow-10.0.1:\n",
      "      Successfully uninstalled Pillow-10.0.1\n",
      "Successfully installed Pillow-9.5.0 XlsxWriter-3.1.3 click-8.1.7 pdf2pptx-1.0.5 pymupdf-1.20.1 python-pptx-0.6.22 tqdm-4.66.1\n",
      "Note: you may need to restart the kernel to use updated packages.\n"
     ]
    }
   ],
   "source": [
    "pip install pdf2pptx\n"
   ]
  },
  {
   "cell_type": "code",
   "execution_count": 11,
   "metadata": {},
   "outputs": [],
   "source": [
    "filename = \"test.pdf\""
   ]
  },
  {
   "cell_type": "code",
   "execution_count": 13,
   "metadata": {},
   "outputs": [
    {
     "name": "stdout",
     "output_type": "stream",
     "text": [
      "test.pdf contains 4 slides\n"
     ]
    },
    {
     "name": "stderr",
     "output_type": "stream",
     "text": [
      "100%|██████████| 4/4 [00:00<00:00, 18.27it/s]\n"
     ]
    },
    {
     "data": {
      "text/plain": [
       "0"
      ]
     },
     "execution_count": 13,
     "metadata": {},
     "output_type": "execute_result"
    }
   ],
   "source": [
    "import os\n",
    "os.system(f\"pdf2pptx {filename}\")"
   ]
  },
  {
   "cell_type": "code",
   "execution_count": 15,
   "metadata": {},
   "outputs": [],
   "source": [
    "# pip install git+https://github.com/pdftables/python-pdftables-api.git\n",
    "# pip setup.py install "
   ]
  },
  {
   "cell_type": "code",
   "execution_count": 25,
   "metadata": {},
   "outputs": [],
   "source": [
    "apiKey = \"0a7fi3x0kxlh\""
   ]
  },
  {
   "cell_type": "code",
   "execution_count": 27,
   "metadata": {},
   "outputs": [],
   "source": [
    "import pdftables_api\n",
    "\n",
    "c = pdftables_api.Client(apiKey)\n",
    "c.xlsx('table.pdf', 'output.csv') "
   ]
  },
  {
   "cell_type": "markdown",
   "metadata": {},
   "source": [
    "---"
   ]
  },
  {
   "cell_type": "code",
   "execution_count": 1,
   "metadata": {},
   "outputs": [
    {
     "name": "stdout",
     "output_type": "stream",
     "text": [
      "\u001b[31mERROR: Could not find a version that satisfies the requirement pdf2htmlEX (from versions: none)\u001b[0m\u001b[31m\n",
      "\u001b[0m\u001b[31mERROR: No matching distribution found for pdf2htmlEX\u001b[0m\u001b[31m\n",
      "\u001b[0mNote: you may need to restart the kernel to use updated packages.\n"
     ]
    }
   ],
   "source": [
    "pip install pdf2htmlEX"
   ]
  },
  {
   "cell_type": "code",
   "execution_count": null,
   "metadata": {},
   "outputs": [],
   "source": []
  }
 ],
 "metadata": {
  "kernelspec": {
   "display_name": "env",
   "language": "python",
   "name": "python3"
  },
  "language_info": {
   "codemirror_mode": {
    "name": "ipython",
    "version": 3
   },
   "file_extension": ".py",
   "mimetype": "text/x-python",
   "name": "python",
   "nbconvert_exporter": "python",
   "pygments_lexer": "ipython3",
   "version": "3.10.12"
  },
  "orig_nbformat": 4
 },
 "nbformat": 4,
 "nbformat_minor": 2
}
